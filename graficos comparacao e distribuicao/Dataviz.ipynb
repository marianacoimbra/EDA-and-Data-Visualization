{
 "cells": [
  {
   "cell_type": "code",
   "execution_count": 1,
   "id": "58815959-4495-4046-99fb-24f994529eff",
   "metadata": {},
   "outputs": [],
   "source": [
    "# Definindo a paleta de cores\n",
    "AZUL1, AZUL2, AZUL3, AZUL4, AZUL5 = '#03045e', '#0077b6', \"#00b4d8\", '#90e0ef', '#CDDBF3'\n",
    "CINZA1, CINZA2, CINZA3, CINZA4, CINZA5 = '#212529', '#495057', '#adb5bd', '#dee2e6', '#f8f9fa'\n",
    "VERMELHO1, LARANJA1, AMARELO1, VERDE1, VERDE2 = '#e76f51', '#f4a261',\t'#e9c46a', '#4c956c', '#2a9d8f'"
   ]
  },
  {
   "cell_type": "code",
   "execution_count": 2,
   "id": "fcffcd52-83d0-41be-a9a3-b6e588166651",
   "metadata": {},
   "outputs": [],
   "source": [
    "import pandas as pd"
   ]
  },
  {
   "cell_type": "code",
   "execution_count": 3,
   "id": "e0f53c80-32a6-4296-abd2-46bec17155aa",
   "metadata": {},
   "outputs": [
    {
     "data": {
      "text/html": [
       "<div>\n",
       "<style scoped>\n",
       "    .dataframe tbody tr th:only-of-type {\n",
       "        vertical-align: middle;\n",
       "    }\n",
       "\n",
       "    .dataframe tbody tr th {\n",
       "        vertical-align: top;\n",
       "    }\n",
       "\n",
       "    .dataframe thead th {\n",
       "        text-align: right;\n",
       "    }\n",
       "</style>\n",
       "<table border=\"1\" class=\"dataframe\">\n",
       "  <thead>\n",
       "    <tr style=\"text-align: right;\">\n",
       "      <th></th>\n",
       "      <th>data_pedido</th>\n",
       "      <th>data_envio</th>\n",
       "      <th>modo_envio</th>\n",
       "      <th>nome_cliente</th>\n",
       "      <th>segmento_cliente</th>\n",
       "      <th>cidade</th>\n",
       "      <th>estado</th>\n",
       "      <th>regiao</th>\n",
       "      <th>departamento</th>\n",
       "      <th>tipo_produto</th>\n",
       "      <th>preco_base</th>\n",
       "      <th>preco_unit_sem_desc</th>\n",
       "      <th>desconto</th>\n",
       "      <th>preco_unit_venda</th>\n",
       "      <th>quantidade</th>\n",
       "      <th>vendas</th>\n",
       "      <th>lucro</th>\n",
       "    </tr>\n",
       "  </thead>\n",
       "  <tbody>\n",
       "    <tr>\n",
       "      <th>0</th>\n",
       "      <td>2018-11-09</td>\n",
       "      <td>2018-11-12</td>\n",
       "      <td>Econômica</td>\n",
       "      <td>Thiago Silveira</td>\n",
       "      <td>B2C</td>\n",
       "      <td>Ribeirão Preto</td>\n",
       "      <td>São Paulo</td>\n",
       "      <td>Sudeste</td>\n",
       "      <td>Materiais de construção</td>\n",
       "      <td>encanamentos</td>\n",
       "      <td>409.70</td>\n",
       "      <td>445.33</td>\n",
       "      <td>0.000</td>\n",
       "      <td>445.33</td>\n",
       "      <td>2</td>\n",
       "      <td>890.66</td>\n",
       "      <td>71.26</td>\n",
       "    </tr>\n",
       "    <tr>\n",
       "      <th>1</th>\n",
       "      <td>2018-11-09</td>\n",
       "      <td>2018-11-12</td>\n",
       "      <td>Econômica</td>\n",
       "      <td>Thiago Silveira</td>\n",
       "      <td>B2C</td>\n",
       "      <td>Ribeirão Preto</td>\n",
       "      <td>São Paulo</td>\n",
       "      <td>Sudeste</td>\n",
       "      <td>Materiais de construção</td>\n",
       "      <td>ferramentas</td>\n",
       "      <td>705.10</td>\n",
       "      <td>829.53</td>\n",
       "      <td>0.000</td>\n",
       "      <td>829.53</td>\n",
       "      <td>3</td>\n",
       "      <td>2488.59</td>\n",
       "      <td>373.29</td>\n",
       "    </tr>\n",
       "    <tr>\n",
       "      <th>2</th>\n",
       "      <td>2018-06-13</td>\n",
       "      <td>2018-06-17</td>\n",
       "      <td>Econômica</td>\n",
       "      <td>Giovanna Lima</td>\n",
       "      <td>B2B</td>\n",
       "      <td>Rio de Janeiro</td>\n",
       "      <td>Rio de Janeiro</td>\n",
       "      <td>Sudeste</td>\n",
       "      <td>Jardinagem e paisagismo</td>\n",
       "      <td>sementes</td>\n",
       "      <td>19.02</td>\n",
       "      <td>24.86</td>\n",
       "      <td>0.000</td>\n",
       "      <td>24.86</td>\n",
       "      <td>2</td>\n",
       "      <td>49.72</td>\n",
       "      <td>11.68</td>\n",
       "    </tr>\n",
       "    <tr>\n",
       "      <th>3</th>\n",
       "      <td>2017-10-12</td>\n",
       "      <td>2017-10-19</td>\n",
       "      <td>Entrega padrão</td>\n",
       "      <td>Ana Júlia da Cruz</td>\n",
       "      <td>B2C</td>\n",
       "      <td>Foz do Iguaçu</td>\n",
       "      <td>Paraná</td>\n",
       "      <td>Sul</td>\n",
       "      <td>Materiais de construção</td>\n",
       "      <td>materiais de revestimento</td>\n",
       "      <td>781.38</td>\n",
       "      <td>840.19</td>\n",
       "      <td>0.225</td>\n",
       "      <td>651.15</td>\n",
       "      <td>5</td>\n",
       "      <td>3255.75</td>\n",
       "      <td>-651.15</td>\n",
       "    </tr>\n",
       "    <tr>\n",
       "      <th>4</th>\n",
       "      <td>2017-10-12</td>\n",
       "      <td>2017-10-19</td>\n",
       "      <td>Entrega padrão</td>\n",
       "      <td>Ana Júlia da Cruz</td>\n",
       "      <td>B2C</td>\n",
       "      <td>Foz do Iguaçu</td>\n",
       "      <td>Paraná</td>\n",
       "      <td>Sul</td>\n",
       "      <td>Jardinagem e paisagismo</td>\n",
       "      <td>vasos</td>\n",
       "      <td>35.88</td>\n",
       "      <td>42.24</td>\n",
       "      <td>0.100</td>\n",
       "      <td>38.02</td>\n",
       "      <td>2</td>\n",
       "      <td>76.04</td>\n",
       "      <td>4.28</td>\n",
       "    </tr>\n",
       "  </tbody>\n",
       "</table>\n",
       "</div>"
      ],
      "text/plain": [
       "  data_pedido  data_envio      modo_envio       nome_cliente segmento_cliente  \\\n",
       "0  2018-11-09  2018-11-12       Econômica    Thiago Silveira              B2C   \n",
       "1  2018-11-09  2018-11-12       Econômica    Thiago Silveira              B2C   \n",
       "2  2018-06-13  2018-06-17       Econômica      Giovanna Lima              B2B   \n",
       "3  2017-10-12  2017-10-19  Entrega padrão  Ana Júlia da Cruz              B2C   \n",
       "4  2017-10-12  2017-10-19  Entrega padrão  Ana Júlia da Cruz              B2C   \n",
       "\n",
       "           cidade          estado   regiao             departamento  \\\n",
       "0  Ribeirão Preto       São Paulo  Sudeste  Materiais de construção   \n",
       "1  Ribeirão Preto       São Paulo  Sudeste  Materiais de construção   \n",
       "2  Rio de Janeiro  Rio de Janeiro  Sudeste  Jardinagem e paisagismo   \n",
       "3   Foz do Iguaçu          Paraná      Sul  Materiais de construção   \n",
       "4   Foz do Iguaçu          Paraná      Sul  Jardinagem e paisagismo   \n",
       "\n",
       "                tipo_produto  preco_base  preco_unit_sem_desc  desconto  \\\n",
       "0               encanamentos      409.70               445.33     0.000   \n",
       "1                ferramentas      705.10               829.53     0.000   \n",
       "2                   sementes       19.02                24.86     0.000   \n",
       "3  materiais de revestimento      781.38               840.19     0.225   \n",
       "4                      vasos       35.88                42.24     0.100   \n",
       "\n",
       "   preco_unit_venda  quantidade   vendas   lucro  \n",
       "0            445.33           2   890.66   71.26  \n",
       "1            829.53           3  2488.59  373.29  \n",
       "2             24.86           2    49.72   11.68  \n",
       "3            651.15           5  3255.75 -651.15  \n",
       "4             38.02           2    76.04    4.28  "
      ]
     },
     "execution_count": 3,
     "metadata": {},
     "output_type": "execute_result"
    }
   ],
   "source": [
    "# Importando o relatório de vendas\n",
    "vendas = pd.read_csv(\"https://raw.githubusercontent.com/afonsosr2/dataviz-graficos/master/dados/relatorio_vendas.csv\")\n",
    "vendas.head()"
   ]
  },
  {
   "cell_type": "markdown",
   "id": "77e00720-b770-444f-8515-dec35a3cbef0",
   "metadata": {},
   "source": [
    "## Transformando objetos em dados de tempo\r\n"
   ]
  },
  {
   "cell_type": "code",
   "execution_count": 4,
   "id": "947d915f-03f8-4f92-aca2-12d008ae8b6e",
   "metadata": {},
   "outputs": [],
   "source": [
    "vendas[\"data_pedido\"] = pd.to_datetime(vendas[\"data_pedido\"], format=\"%Y-%m-%d\")\n",
    "vendas[\"data_envio\"] = pd.to_datetime(vendas[\"data_envio\"], format=\"%Y-%m-%d\") "
   ]
  },
  {
   "cell_type": "code",
   "execution_count": 5,
   "id": "26a484f7-aae4-4e3b-a88d-3a83cc4590b2",
   "metadata": {},
   "outputs": [
    {
     "name": "stdout",
     "output_type": "stream",
     "text": [
      "<class 'pandas.core.frame.DataFrame'>\n",
      "RangeIndex: 8940 entries, 0 to 8939\n",
      "Data columns (total 17 columns):\n",
      " #   Column               Non-Null Count  Dtype         \n",
      "---  ------               --------------  -----         \n",
      " 0   data_pedido          8940 non-null   datetime64[ns]\n",
      " 1   data_envio           8940 non-null   datetime64[ns]\n",
      " 2   modo_envio           8940 non-null   object        \n",
      " 3   nome_cliente         8940 non-null   object        \n",
      " 4   segmento_cliente     8940 non-null   object        \n",
      " 5   cidade               8940 non-null   object        \n",
      " 6   estado               8940 non-null   object        \n",
      " 7   regiao               8940 non-null   object        \n",
      " 8   departamento         8940 non-null   object        \n",
      " 9   tipo_produto         8940 non-null   object        \n",
      " 10  preco_base           8940 non-null   float64       \n",
      " 11  preco_unit_sem_desc  8940 non-null   float64       \n",
      " 12  desconto             8940 non-null   float64       \n",
      " 13  preco_unit_venda     8940 non-null   float64       \n",
      " 14  quantidade           8940 non-null   int64         \n",
      " 15  vendas               8940 non-null   float64       \n",
      " 16  lucro                8940 non-null   float64       \n",
      "dtypes: datetime64[ns](2), float64(6), int64(1), object(8)\n",
      "memory usage: 1.2+ MB\n"
     ]
    }
   ],
   "source": [
    "vendas.info()"
   ]
  },
  {
   "cell_type": "code",
   "execution_count": 6,
   "id": "64056d45-71d4-40a6-bd52-0355d4c657e5",
   "metadata": {},
   "outputs": [
    {
     "data": {
      "text/html": [
       "<div>\n",
       "<style scoped>\n",
       "    .dataframe tbody tr th:only-of-type {\n",
       "        vertical-align: middle;\n",
       "    }\n",
       "\n",
       "    .dataframe tbody tr th {\n",
       "        vertical-align: top;\n",
       "    }\n",
       "\n",
       "    .dataframe thead th {\n",
       "        text-align: right;\n",
       "    }\n",
       "</style>\n",
       "<table border=\"1\" class=\"dataframe\">\n",
       "  <thead>\n",
       "    <tr style=\"text-align: right;\">\n",
       "      <th></th>\n",
       "      <th>data_pedido</th>\n",
       "      <th>vendas</th>\n",
       "    </tr>\n",
       "  </thead>\n",
       "  <tbody>\n",
       "    <tr>\n",
       "      <th>0</th>\n",
       "      <td>2018-11-09</td>\n",
       "      <td>890.66</td>\n",
       "    </tr>\n",
       "    <tr>\n",
       "      <th>1</th>\n",
       "      <td>2018-11-09</td>\n",
       "      <td>2488.59</td>\n",
       "    </tr>\n",
       "    <tr>\n",
       "      <th>2</th>\n",
       "      <td>2018-06-13</td>\n",
       "      <td>49.72</td>\n",
       "    </tr>\n",
       "    <tr>\n",
       "      <th>3</th>\n",
       "      <td>2017-10-12</td>\n",
       "      <td>3255.75</td>\n",
       "    </tr>\n",
       "    <tr>\n",
       "      <th>4</th>\n",
       "      <td>2017-10-12</td>\n",
       "      <td>76.04</td>\n",
       "    </tr>\n",
       "    <tr>\n",
       "      <th>...</th>\n",
       "      <td>...</td>\n",
       "      <td>...</td>\n",
       "    </tr>\n",
       "    <tr>\n",
       "      <th>8935</th>\n",
       "      <td>2018-09-30</td>\n",
       "      <td>123.22</td>\n",
       "    </tr>\n",
       "    <tr>\n",
       "      <th>8936</th>\n",
       "      <td>2019-11-18</td>\n",
       "      <td>271.97</td>\n",
       "    </tr>\n",
       "    <tr>\n",
       "      <th>8937</th>\n",
       "      <td>2019-11-18</td>\n",
       "      <td>700.75</td>\n",
       "    </tr>\n",
       "    <tr>\n",
       "      <th>8938</th>\n",
       "      <td>2016-01-22</td>\n",
       "      <td>85.83</td>\n",
       "    </tr>\n",
       "    <tr>\n",
       "      <th>8939</th>\n",
       "      <td>2019-05-05</td>\n",
       "      <td>826.74</td>\n",
       "    </tr>\n",
       "  </tbody>\n",
       "</table>\n",
       "<p>8940 rows × 2 columns</p>\n",
       "</div>"
      ],
      "text/plain": [
       "     data_pedido   vendas\n",
       "0     2018-11-09   890.66\n",
       "1     2018-11-09  2488.59\n",
       "2     2018-06-13    49.72\n",
       "3     2017-10-12  3255.75\n",
       "4     2017-10-12    76.04\n",
       "...          ...      ...\n",
       "8935  2018-09-30   123.22\n",
       "8936  2019-11-18   271.97\n",
       "8937  2019-11-18   700.75\n",
       "8938  2016-01-22    85.83\n",
       "8939  2019-05-05   826.74\n",
       "\n",
       "[8940 rows x 2 columns]"
      ]
     },
     "execution_count": 6,
     "metadata": {},
     "output_type": "execute_result"
    }
   ],
   "source": [
    "df_vendas_ano = vendas.copy()\n",
    "df_vendas_ano = df_vendas_ano[[\"data_pedido\", \"vendas\"]]\n",
    "\n",
    "df_vendas_ano"
   ]
  },
  {
   "cell_type": "code",
   "execution_count": 7,
   "id": "0eb81e55-c353-43d7-90d9-e34bac620c65",
   "metadata": {},
   "outputs": [
    {
     "data": {
      "text/html": [
       "<div>\n",
       "<style scoped>\n",
       "    .dataframe tbody tr th:only-of-type {\n",
       "        vertical-align: middle;\n",
       "    }\n",
       "\n",
       "    .dataframe tbody tr th {\n",
       "        vertical-align: top;\n",
       "    }\n",
       "\n",
       "    .dataframe thead th {\n",
       "        text-align: right;\n",
       "    }\n",
       "</style>\n",
       "<table border=\"1\" class=\"dataframe\">\n",
       "  <thead>\n",
       "    <tr style=\"text-align: right;\">\n",
       "      <th></th>\n",
       "      <th>vendas</th>\n",
       "      <th>ano</th>\n",
       "    </tr>\n",
       "  </thead>\n",
       "  <tbody>\n",
       "    <tr>\n",
       "      <th>0</th>\n",
       "      <td>890.66</td>\n",
       "      <td>2018</td>\n",
       "    </tr>\n",
       "    <tr>\n",
       "      <th>1</th>\n",
       "      <td>2488.59</td>\n",
       "      <td>2018</td>\n",
       "    </tr>\n",
       "    <tr>\n",
       "      <th>2</th>\n",
       "      <td>49.72</td>\n",
       "      <td>2018</td>\n",
       "    </tr>\n",
       "    <tr>\n",
       "      <th>3</th>\n",
       "      <td>3255.75</td>\n",
       "      <td>2017</td>\n",
       "    </tr>\n",
       "    <tr>\n",
       "      <th>4</th>\n",
       "      <td>76.04</td>\n",
       "      <td>2017</td>\n",
       "    </tr>\n",
       "    <tr>\n",
       "      <th>...</th>\n",
       "      <td>...</td>\n",
       "      <td>...</td>\n",
       "    </tr>\n",
       "    <tr>\n",
       "      <th>8935</th>\n",
       "      <td>123.22</td>\n",
       "      <td>2018</td>\n",
       "    </tr>\n",
       "    <tr>\n",
       "      <th>8936</th>\n",
       "      <td>271.97</td>\n",
       "      <td>2019</td>\n",
       "    </tr>\n",
       "    <tr>\n",
       "      <th>8937</th>\n",
       "      <td>700.75</td>\n",
       "      <td>2019</td>\n",
       "    </tr>\n",
       "    <tr>\n",
       "      <th>8938</th>\n",
       "      <td>85.83</td>\n",
       "      <td>2016</td>\n",
       "    </tr>\n",
       "    <tr>\n",
       "      <th>8939</th>\n",
       "      <td>826.74</td>\n",
       "      <td>2019</td>\n",
       "    </tr>\n",
       "  </tbody>\n",
       "</table>\n",
       "<p>8940 rows × 2 columns</p>\n",
       "</div>"
      ],
      "text/plain": [
       "       vendas   ano\n",
       "0      890.66  2018\n",
       "1     2488.59  2018\n",
       "2       49.72  2018\n",
       "3     3255.75  2017\n",
       "4       76.04  2017\n",
       "...       ...   ...\n",
       "8935   123.22  2018\n",
       "8936   271.97  2019\n",
       "8937   700.75  2019\n",
       "8938    85.83  2016\n",
       "8939   826.74  2019\n",
       "\n",
       "[8940 rows x 2 columns]"
      ]
     },
     "execution_count": 7,
     "metadata": {},
     "output_type": "execute_result"
    }
   ],
   "source": [
    "# Gerando uma coluna que represente apenas os anos puxando-os da coluna data pedido\n",
    "df_vendas_ano[\"ano\"] = df_vendas_ano.data_pedido.dt.year\n",
    "df_vendas_ano.drop(labels = \"data_pedido\", axis = 1, inplace = True)\n",
    "\n",
    "df_vendas_ano"
   ]
  },
  {
   "cell_type": "code",
   "execution_count": 8,
   "id": "f03dcf2f-cc1a-4b2a-96d4-95f68bdea565",
   "metadata": {},
   "outputs": [
    {
     "data": {
      "text/html": [
       "<div>\n",
       "<style scoped>\n",
       "    .dataframe tbody tr th:only-of-type {\n",
       "        vertical-align: middle;\n",
       "    }\n",
       "\n",
       "    .dataframe tbody tr th {\n",
       "        vertical-align: top;\n",
       "    }\n",
       "\n",
       "    .dataframe thead th {\n",
       "        text-align: right;\n",
       "    }\n",
       "</style>\n",
       "<table border=\"1\" class=\"dataframe\">\n",
       "  <thead>\n",
       "    <tr style=\"text-align: right;\">\n",
       "      <th></th>\n",
       "      <th>vendas</th>\n",
       "    </tr>\n",
       "    <tr>\n",
       "      <th>ano</th>\n",
       "      <th></th>\n",
       "    </tr>\n",
       "  </thead>\n",
       "  <tbody>\n",
       "    <tr>\n",
       "      <th>2016</th>\n",
       "      <td>1402652.33</td>\n",
       "    </tr>\n",
       "    <tr>\n",
       "      <th>2017</th>\n",
       "      <td>1489179.52</td>\n",
       "    </tr>\n",
       "    <tr>\n",
       "      <th>2018</th>\n",
       "      <td>1884161.41</td>\n",
       "    </tr>\n",
       "    <tr>\n",
       "      <th>2019</th>\n",
       "      <td>2305006.29</td>\n",
       "    </tr>\n",
       "  </tbody>\n",
       "</table>\n",
       "</div>"
      ],
      "text/plain": [
       "          vendas\n",
       "ano             \n",
       "2016  1402652.33\n",
       "2017  1489179.52\n",
       "2018  1884161.41\n",
       "2019  2305006.29"
      ]
     },
     "execution_count": 8,
     "metadata": {},
     "output_type": "execute_result"
    }
   ],
   "source": [
    "# Agrupando os dados por ano\n",
    "df_vendas_ano = df_vendas_ano.groupby([\"ano\"]).aggregate(\"sum\")\n",
    "\n",
    "df_vendas_ano"
   ]
  },
  {
   "cell_type": "markdown",
   "id": "95b2a00d-7bc2-4928-9cab-34f8f7130331",
   "metadata": {},
   "source": [
    "# Construindo o gráfico de comparação\n"
   ]
  },
  {
   "cell_type": "markdown",
   "id": "65fc7859-520c-4897-818f-c12394c95dcb",
   "metadata": {},
   "source": [
    "- Matplotlib: responsável por criar a figura, os eixos e alguns elementos visuais;\n",
    "- Seaborn: responsável pela estilização do nosso gráfico."
   ]
  },
  {
   "cell_type": "code",
   "execution_count": 9,
   "id": "8efaaae7-03e8-4cd7-9c5a-535a93317f94",
   "metadata": {},
   "outputs": [
    {
     "name": "stderr",
     "output_type": "stream",
     "text": [
      "C:\\Users\\mariv\\Meus_Docs\\data_visualization_study\\myenv\\Lib\\site-packages\\seaborn\\_oldcore.py:1498: FutureWarning: is_categorical_dtype is deprecated and will be removed in a future version. Use isinstance(dtype, CategoricalDtype) instead\n",
      "  if pd.api.types.is_categorical_dtype(vector):\n",
      "C:\\Users\\mariv\\Meus_Docs\\data_visualization_study\\myenv\\Lib\\site-packages\\seaborn\\_oldcore.py:1498: FutureWarning: is_categorical_dtype is deprecated and will be removed in a future version. Use isinstance(dtype, CategoricalDtype) instead\n",
      "  if pd.api.types.is_categorical_dtype(vector):\n",
      "C:\\Users\\mariv\\Meus_Docs\\data_visualization_study\\myenv\\Lib\\site-packages\\seaborn\\_oldcore.py:1498: FutureWarning: is_categorical_dtype is deprecated and will be removed in a future version. Use isinstance(dtype, CategoricalDtype) instead\n",
      "  if pd.api.types.is_categorical_dtype(vector):\n"
     ]
    },
    {
     "data": {
      "image/png": "[encoded data removed]",
      "text/plain": [
       "<Figure size 1000x400 with 1 Axes>"
      ]
     },
     "metadata": {},
     "output_type": "display_data"
    }
   ],
   "source": [
    "# Importando as bibliotecas\n",
    "import matplotlib.pyplot as plt\n",
    "import seaborn as sns\n",
    "# Área do gráfico e tema da visualização\n",
    "fig, ax = plt.subplots(figsize=(10,4))\n",
    "sns.set_theme(style=\"white\")\n",
    "# Gerando o gráfico de colunas \n",
    "ax = sns.barplot(data = df_vendas_ano, x = df_vendas_ano.index, y=\"vendas\", palette = [AZUL2])\n",
    "plt.show()"
   ]
  },
  {
   "cell_type": "code",
   "execution_count": 10,
   "id": "bf6719e8-c835-4b56-9f87-d728fdecb979",
   "metadata": {},
   "outputs": [],
   "source": [
    "## Gerando a função para criar o gráfico de colunas\n",
    "\n",
    "def grafico_vendas(cores: list=[AZUL2]):\n",
    "  # Importando as bibliotecas\n",
    "  import matplotlib.pyplot as plt\n",
    "  import seaborn as sns\n",
    "\n",
    "  # Área do gráfico e tema da visualização\n",
    "  fig, ax = plt.subplots(figsize=(10,4))\n",
    "  sns.set_theme(style=\"white\")\n",
    "\n",
    "  # Gerando o gráfico de colunas \n",
    "  ax = sns.barplot(data = df_vendas_ano, y='vendas', x = df_vendas_ano.index, palette = cores)\n",
    "\n",
    "  # Personalizando o gráfico\n",
    "  ax.set_title(\"Vendas das lojas de departamentos\\nde 2016 a 2019\", loc=\"left\", fontsize=18, color= CINZA1)\n",
    "  ax.set_xlabel(\"\")\n",
    "  ax.set_ylabel(\"\")\n",
    "  ax.xaxis.set_tick_params(labelsize = 14, labelcolor = CINZA2)\n",
    "  sns.despine(left= True, bottom = True)\n",
    "\n",
    "  # Escrevendo os valores de cada barra no gráfico\n",
    "  ax.set_yticklabels([])\n",
    "  for i, valor in enumerate(df_vendas_ano[\"vendas\"]):\n",
    "    qtd = f'R$ {valor:,.0f}'.replace(\",\",\".\")\n",
    "    offset = 1e5\n",
    "    ax.text(i, valor + offset, qtd, color = CINZA2, fontsize =12, ha = \"center\", va = \"center\")\n",
    "      \n",
    "    for ano in df_vendas_ano.index:\n",
    "      if df_vendas_ano.loc[ano,\"vendas\"] == df_vendas_ano.vendas.max():\n",
    "        cores.append(AZUL2)\n",
    "      else:\n",
    "        cores.append(AZUL5)\n",
    "    # Anotando uma conclusão no gráfico\n",
    "    ax.text(3.5, 1.5e6,\n",
    "             'Em $\\\\bf{2019}$, as vendas\\n'\n",
    "             'nas lojas subiram\\n'\n",
    "             'aproximadamente $\\\\bf{22,3}$%\\n'\n",
    "             'em relação ao ano de 2018.',\n",
    "             fontsize=14, linespacing=1.45, color=AZUL2)\n",
    "\n",
    "  # retornando o eixo \n",
    "  return ax\n"
   ]
  },
  {
   "cell_type": "code",
   "execution_count": 11,
   "id": "2bb55980-9eea-4b95-bcfd-3973f6e7ab48",
   "metadata": {},
   "outputs": [
    {
     "name": "stderr",
     "output_type": "stream",
     "text": [
      "C:\\Users\\mariv\\Meus_Docs\\data_visualization_study\\myenv\\Lib\\site-packages\\seaborn\\_oldcore.py:1498: FutureWarning: is_categorical_dtype is deprecated and will be removed in a future version. Use isinstance(dtype, CategoricalDtype) instead\n",
      "  if pd.api.types.is_categorical_dtype(vector):\n",
      "C:\\Users\\mariv\\Meus_Docs\\data_visualization_study\\myenv\\Lib\\site-packages\\seaborn\\_oldcore.py:1498: FutureWarning: is_categorical_dtype is deprecated and will be removed in a future version. Use isinstance(dtype, CategoricalDtype) instead\n",
      "  if pd.api.types.is_categorical_dtype(vector):\n",
      "C:\\Users\\mariv\\Meus_Docs\\data_visualization_study\\myenv\\Lib\\site-packages\\seaborn\\_oldcore.py:1498: FutureWarning: is_categorical_dtype is deprecated and will be removed in a future version. Use isinstance(dtype, CategoricalDtype) instead\n",
      "  if pd.api.types.is_categorical_dtype(vector):\n"
     ]
    },
    {
     "data": {
      "image/png": "[encoded data removed]",
      "text/plain": [
       "<Figure size 1000x400 with 1 Axes>"
      ]
     },
     "metadata": {},
     "output_type": "display_data"
    }
   ],
   "source": [
    "# chamando a função\n",
    "ax = grafico_vendas()"
   ]
  },
  {
   "cell_type": "code",
   "execution_count": 12,
   "id": "ad4cc702-60e4-4067-b323-503efb3ab51d",
   "metadata": {},
   "outputs": [
    {
     "name": "stderr",
     "output_type": "stream",
     "text": [
      "C:\\Users\\mariv\\Meus_Docs\\data_visualization_study\\myenv\\Lib\\site-packages\\seaborn\\_oldcore.py:1498: FutureWarning: is_categorical_dtype is deprecated and will be removed in a future version. Use isinstance(dtype, CategoricalDtype) instead\n",
      "  if pd.api.types.is_categorical_dtype(vector):\n",
      "C:\\Users\\mariv\\Meus_Docs\\data_visualization_study\\myenv\\Lib\\site-packages\\seaborn\\_oldcore.py:1498: FutureWarning: is_categorical_dtype is deprecated and will be removed in a future version. Use isinstance(dtype, CategoricalDtype) instead\n",
      "  if pd.api.types.is_categorical_dtype(vector):\n",
      "C:\\Users\\mariv\\Meus_Docs\\data_visualization_study\\myenv\\Lib\\site-packages\\seaborn\\_oldcore.py:1498: FutureWarning: is_categorical_dtype is deprecated and will be removed in a future version. Use isinstance(dtype, CategoricalDtype) instead\n",
      "  if pd.api.types.is_categorical_dtype(vector):\n"
     ]
    },
    {
     "data": {
      "image/png": "[encoded data removed]",
      "text/plain": [
       "<Figure size 1000x400 with 1 Axes>"
      ]
     },
     "metadata": {},
     "output_type": "display_data"
    }
   ],
   "source": [
    "# Definindo as cores do gráfico\n",
    "cores = []\n",
    "for ano in df_vendas_ano.index:\n",
    "  if df_vendas_ano.loc[ano,\"vendas\"] == df_vendas_ano.vendas.max():\n",
    "    cores.append(AZUL2)\n",
    "  else:\n",
    "    cores.append(AZUL5)\n",
    "# Anotando uma conclusão no gráfico\n",
    "ax.text(3.5, 1.5e6,\n",
    "         'Em $\\\\bf{2019}$, as vendas\\n'\n",
    "         'nas lojas subiram\\n'\n",
    "         'aproximadamente $\\\\bf{22,3}$%\\n'\n",
    "         'em relação ao ano de 2018.',\n",
    "         fontsize=14, linespacing=1.45, color=AZUL2)\n",
    "\n",
    "fig = ax.get_figure()\n",
    "\n",
    "## Chamando a função do gráfico de colunas\n",
    "ax = grafico_vendas(cores)"
   ]
  },
  {
   "cell_type": "markdown",
   "id": "210beee7-189b-43cb-991e-efd0c97f231c",
   "metadata": {},
   "source": [
    "# Tratando os dados\r\n"
   ]
  },
  {
   "cell_type": "code",
   "execution_count": 13,
   "id": "f1758ae9-b35a-46a3-adde-173206f81299",
   "metadata": {},
   "outputs": [
    {
     "data": {
      "text/html": [
       "<div>\n",
       "<style scoped>\n",
       "    .dataframe tbody tr th:only-of-type {\n",
       "        vertical-align: middle;\n",
       "    }\n",
       "\n",
       "    .dataframe tbody tr th {\n",
       "        vertical-align: top;\n",
       "    }\n",
       "\n",
       "    .dataframe thead th {\n",
       "        text-align: right;\n",
       "    }\n",
       "</style>\n",
       "<table border=\"1\" class=\"dataframe\">\n",
       "  <thead>\n",
       "    <tr style=\"text-align: right;\">\n",
       "      <th></th>\n",
       "      <th>tipo_produto</th>\n",
       "      <th>lucro</th>\n",
       "    </tr>\n",
       "  </thead>\n",
       "  <tbody>\n",
       "    <tr>\n",
       "      <th>0</th>\n",
       "      <td>encanamentos</td>\n",
       "      <td>71.26</td>\n",
       "    </tr>\n",
       "    <tr>\n",
       "      <th>1</th>\n",
       "      <td>ferramentas</td>\n",
       "      <td>373.29</td>\n",
       "    </tr>\n",
       "    <tr>\n",
       "      <th>2</th>\n",
       "      <td>sementes</td>\n",
       "      <td>11.68</td>\n",
       "    </tr>\n",
       "    <tr>\n",
       "      <th>3</th>\n",
       "      <td>materiais de revestimento</td>\n",
       "      <td>-651.15</td>\n",
       "    </tr>\n",
       "    <tr>\n",
       "      <th>4</th>\n",
       "      <td>vasos</td>\n",
       "      <td>4.28</td>\n",
       "    </tr>\n",
       "    <tr>\n",
       "      <th>...</th>\n",
       "      <td>...</td>\n",
       "      <td>...</td>\n",
       "    </tr>\n",
       "    <tr>\n",
       "      <th>8935</th>\n",
       "      <td>ferramentas automotivas</td>\n",
       "      <td>25.88</td>\n",
       "    </tr>\n",
       "    <tr>\n",
       "      <th>8936</th>\n",
       "      <td>ferramentas automotivas</td>\n",
       "      <td>48.96</td>\n",
       "    </tr>\n",
       "    <tr>\n",
       "      <th>8937</th>\n",
       "      <td>pneus</td>\n",
       "      <td>94.60</td>\n",
       "    </tr>\n",
       "    <tr>\n",
       "      <th>8938</th>\n",
       "      <td>iluminação</td>\n",
       "      <td>6.96</td>\n",
       "    </tr>\n",
       "    <tr>\n",
       "      <th>8939</th>\n",
       "      <td>mobiliário de exterior</td>\n",
       "      <td>124.02</td>\n",
       "    </tr>\n",
       "  </tbody>\n",
       "</table>\n",
       "<p>8940 rows × 2 columns</p>\n",
       "</div>"
      ],
      "text/plain": [
       "                   tipo_produto   lucro\n",
       "0                  encanamentos   71.26\n",
       "1                   ferramentas  373.29\n",
       "2                      sementes   11.68\n",
       "3     materiais de revestimento -651.15\n",
       "4                         vasos    4.28\n",
       "...                         ...     ...\n",
       "8935    ferramentas automotivas   25.88\n",
       "8936    ferramentas automotivas   48.96\n",
       "8937                      pneus   94.60\n",
       "8938                 iluminação    6.96\n",
       "8939     mobiliário de exterior  124.02\n",
       "\n",
       "[8940 rows x 2 columns]"
      ]
     },
     "execution_count": 13,
     "metadata": {},
     "output_type": "execute_result"
    }
   ],
   "source": [
    "# Criando um df com os dados desejados\n",
    "top_lucro = vendas.copy()\n",
    "top_lucro = top_lucro[[\"tipo_produto\", \"lucro\"]]\n",
    "\n",
    "top_lucro"
   ]
  },
  {
   "cell_type": "code",
   "execution_count": 14,
   "id": "db2838bf-9c48-47c5-bdf9-bcc7fb432649",
   "metadata": {},
   "outputs": [
    {
     "data": {
      "text/html": [
       "<div>\n",
       "<style scoped>\n",
       "    .dataframe tbody tr th:only-of-type {\n",
       "        vertical-align: middle;\n",
       "    }\n",
       "\n",
       "    .dataframe tbody tr th {\n",
       "        vertical-align: top;\n",
       "    }\n",
       "\n",
       "    .dataframe thead th {\n",
       "        text-align: right;\n",
       "    }\n",
       "</style>\n",
       "<table border=\"1\" class=\"dataframe\">\n",
       "  <thead>\n",
       "    <tr style=\"text-align: right;\">\n",
       "      <th></th>\n",
       "      <th>lucro</th>\n",
       "    </tr>\n",
       "    <tr>\n",
       "      <th>tipo_produto</th>\n",
       "      <th></th>\n",
       "    </tr>\n",
       "  </thead>\n",
       "  <tbody>\n",
       "    <tr>\n",
       "      <th>peças de reposição</th>\n",
       "      <td>91148.67</td>\n",
       "    </tr>\n",
       "    <tr>\n",
       "      <th>pneus</th>\n",
       "      <td>67460.05</td>\n",
       "    </tr>\n",
       "    <tr>\n",
       "      <th>ferramentas automotivas</th>\n",
       "      <td>63330.22</td>\n",
       "    </tr>\n",
       "    <tr>\n",
       "      <th>pesticidas</th>\n",
       "      <td>53343.89</td>\n",
       "    </tr>\n",
       "    <tr>\n",
       "      <th>ferramentas de jardinagem</th>\n",
       "      <td>53202.88</td>\n",
       "    </tr>\n",
       "    <tr>\n",
       "      <th>ferramentas</th>\n",
       "      <td>41020.34</td>\n",
       "    </tr>\n",
       "    <tr>\n",
       "      <th>vasos</th>\n",
       "      <td>33941.85</td>\n",
       "    </tr>\n",
       "  </tbody>\n",
       "</table>\n",
       "</div>"
      ],
      "text/plain": [
       "                              lucro\n",
       "tipo_produto                       \n",
       "peças de reposição         91148.67\n",
       "pneus                      67460.05\n",
       "ferramentas automotivas    63330.22\n",
       "pesticidas                 53343.89\n",
       "ferramentas de jardinagem  53202.88\n",
       "ferramentas                41020.34\n",
       "vasos                      33941.85"
      ]
     },
     "execution_count": 14,
     "metadata": {},
     "output_type": "execute_result"
    }
   ],
   "source": [
    "# Agrupando os dados por tipo_produto, ordenando de maneira crescente pelo lucro e selecionando os 7 primeiros\n",
    "top_lucro = top_lucro.groupby([\"tipo_produto\"]).agg(\"sum\").sort_values(\"lucro\", ascending = False)\n",
    "\n",
    "top_7 = top_lucro[:7]\n",
    "top_7\n"
   ]
  },
  {
   "cell_type": "code",
   "execution_count": 15,
   "id": "73718186-96f3-46dc-bd5f-7e76e94dc1a5",
   "metadata": {},
   "outputs": [
    {
     "name": "stderr",
     "output_type": "stream",
     "text": [
      "C:\\Users\\mariv\\Meus_Docs\\data_visualization_study\\myenv\\Lib\\site-packages\\seaborn\\_oldcore.py:1498: FutureWarning: is_categorical_dtype is deprecated and will be removed in a future version. Use isinstance(dtype, CategoricalDtype) instead\n",
      "  if pd.api.types.is_categorical_dtype(vector):\n",
      "C:\\Users\\mariv\\Meus_Docs\\data_visualization_study\\myenv\\Lib\\site-packages\\seaborn\\_oldcore.py:1498: FutureWarning: is_categorical_dtype is deprecated and will be removed in a future version. Use isinstance(dtype, CategoricalDtype) instead\n",
      "  if pd.api.types.is_categorical_dtype(vector):\n",
      "C:\\Users\\mariv\\Meus_Docs\\data_visualization_study\\myenv\\Lib\\site-packages\\seaborn\\_oldcore.py:1498: FutureWarning: is_categorical_dtype is deprecated and will be removed in a future version. Use isinstance(dtype, CategoricalDtype) instead\n",
      "  if pd.api.types.is_categorical_dtype(vector):\n"
     ]
    },
    {
     "data": {
      "image/png": "[encoded data removed]",
      "text/plain": [
       "<Figure size 1000x400 with 1 Axes>"
      ]
     },
     "metadata": {},
     "output_type": "display_data"
    }
   ],
   "source": [
    "## Gerando a função para criar o gráfico de barras\n",
    "\n",
    "def grafico_top_7():\n",
    "  # Importando as bibliotecas\n",
    "  import matplotlib.pyplot as plt\n",
    "  import seaborn as sns\n",
    "\n",
    "  # Área do gráfico e tema da visualização\n",
    "  fig, ax = plt.subplots(figsize=(10,4))\n",
    "  fig.subplots_adjust(right=0.7)\n",
    "  sns.set_theme(style=\"white\")\n",
    "    # Personalizando o gráfico\n",
    "  ax.set_title('Top 7 produtos com maior lucro no catálogo (2016-2019)\\n', fontsize=18, color=CINZA1, loc='left')\n",
    "  ax.set_xlabel('')\n",
    "  ax.set_ylabel('')\n",
    "  ax.set_xticklabels([])\n",
    "  ax.yaxis.set_tick_params(labelsize=10, labelcolor = CINZA2)\n",
    "  sns.despine(left = True, bottom = True)  \n",
    "# Escrevendo os valores de cada barra no gráfico\n",
    "  for i, valor in enumerate(top_7['lucro']):\n",
    "      qtd = f'R$ {valor:,.0f}'.replace(',','.')\n",
    "      offset = 1e3  # offset de 1.000\n",
    "      ax.text(valor - offset, i, qtd, color= CINZA5, fontsize=10, fontweight='bold', ha='right', va='center')\n",
    "\n",
    "\n",
    "\n",
    "  # Definindo as cores do gráfico\n",
    "  cores = [AZUL2, AZUL2, AZUL2, VERDE1, VERDE1, CINZA3, VERDE1]\n",
    "\n",
    "  # Gerando o gráfico de barras\n",
    "  ax = sns.barplot(data = top_7, x=\"lucro\", y = top_7.index, palette = cores)\n",
    "\n",
    "  return ax\n",
    "\n",
    "ax = grafico_top_7()\n"
   ]
  },
  {
   "cell_type": "markdown",
   "id": "e7610166-be36-4a48-8c05-e1effab8fa1b",
   "metadata": {},
   "source": [
    "#  gráficos empilhados"
   ]
  },
  {
   "cell_type": "markdown",
   "id": "0f2ae383-c3fd-4765-8e16-e7a5ead104de",
   "metadata": {},
   "source": [
    "Para iniciar nosso processo, vamos trabalhar com gráficos de colunas empilhadas. Este gráfico pode ser produzido, por exemplo, com perguntas relacionadas à do nosso questionamento, que diz:\r\n",
    "\r\n",
    "Se separarmos o total de vendas por ano por região, o que conseguimos observar em nossos dados?"
   ]
  },
  {
   "cell_type": "code",
   "execution_count": 16,
   "id": "f1cf7e3b-0c74-44e2-9a43-fc176865c6c9",
   "metadata": {},
   "outputs": [
    {
     "data": {
      "text/html": [
       "<div>\n",
       "<style scoped>\n",
       "    .dataframe tbody tr th:only-of-type {\n",
       "        vertical-align: middle;\n",
       "    }\n",
       "\n",
       "    .dataframe tbody tr th {\n",
       "        vertical-align: top;\n",
       "    }\n",
       "\n",
       "    .dataframe thead th {\n",
       "        text-align: right;\n",
       "    }\n",
       "</style>\n",
       "<table border=\"1\" class=\"dataframe\">\n",
       "  <thead>\n",
       "    <tr style=\"text-align: right;\">\n",
       "      <th></th>\n",
       "      <th>regiao</th>\n",
       "      <th>vendas</th>\n",
       "      <th>ano</th>\n",
       "    </tr>\n",
       "  </thead>\n",
       "  <tbody>\n",
       "    <tr>\n",
       "      <th>0</th>\n",
       "      <td>Sudeste</td>\n",
       "      <td>890.66</td>\n",
       "      <td>2018</td>\n",
       "    </tr>\n",
       "    <tr>\n",
       "      <th>1</th>\n",
       "      <td>Sudeste</td>\n",
       "      <td>2488.59</td>\n",
       "      <td>2018</td>\n",
       "    </tr>\n",
       "    <tr>\n",
       "      <th>2</th>\n",
       "      <td>Sudeste</td>\n",
       "      <td>49.72</td>\n",
       "      <td>2018</td>\n",
       "    </tr>\n",
       "    <tr>\n",
       "      <th>3</th>\n",
       "      <td>Sul</td>\n",
       "      <td>3255.75</td>\n",
       "      <td>2017</td>\n",
       "    </tr>\n",
       "    <tr>\n",
       "      <th>4</th>\n",
       "      <td>Sul</td>\n",
       "      <td>76.04</td>\n",
       "      <td>2017</td>\n",
       "    </tr>\n",
       "    <tr>\n",
       "      <th>...</th>\n",
       "      <td>...</td>\n",
       "      <td>...</td>\n",
       "      <td>...</td>\n",
       "    </tr>\n",
       "    <tr>\n",
       "      <th>8935</th>\n",
       "      <td>Sudeste</td>\n",
       "      <td>123.22</td>\n",
       "      <td>2018</td>\n",
       "    </tr>\n",
       "    <tr>\n",
       "      <th>8936</th>\n",
       "      <td>Nordeste</td>\n",
       "      <td>271.97</td>\n",
       "      <td>2019</td>\n",
       "    </tr>\n",
       "    <tr>\n",
       "      <th>8937</th>\n",
       "      <td>Nordeste</td>\n",
       "      <td>700.75</td>\n",
       "      <td>2019</td>\n",
       "    </tr>\n",
       "    <tr>\n",
       "      <th>8938</th>\n",
       "      <td>Nordeste</td>\n",
       "      <td>85.83</td>\n",
       "      <td>2016</td>\n",
       "    </tr>\n",
       "    <tr>\n",
       "      <th>8939</th>\n",
       "      <td>Nordeste</td>\n",
       "      <td>826.74</td>\n",
       "      <td>2019</td>\n",
       "    </tr>\n",
       "  </tbody>\n",
       "</table>\n",
       "<p>8940 rows × 3 columns</p>\n",
       "</div>"
      ],
      "text/plain": [
       "        regiao   vendas   ano\n",
       "0      Sudeste   890.66  2018\n",
       "1      Sudeste  2488.59  2018\n",
       "2      Sudeste    49.72  2018\n",
       "3          Sul  3255.75  2017\n",
       "4          Sul    76.04  2017\n",
       "...        ...      ...   ...\n",
       "8935   Sudeste   123.22  2018\n",
       "8936  Nordeste   271.97  2019\n",
       "8937  Nordeste   700.75  2019\n",
       "8938  Nordeste    85.83  2016\n",
       "8939  Nordeste   826.74  2019\n",
       "\n",
       "[8940 rows x 3 columns]"
      ]
     },
     "execution_count": 16,
     "metadata": {},
     "output_type": "execute_result"
    }
   ],
   "source": [
    "# Criando um df com os dados desejados\n",
    "df_vendas_reg = vendas.copy()\n",
    "df_vendas_reg = df_vendas_reg[['data_pedido','regiao', 'vendas']]\n",
    "# Gerando uma coluna que represente apenas os anos puxando-os da coluna data pedido\n",
    "df_vendas_reg['ano'] = df_vendas_reg.data_pedido.dt.year\n",
    "df_vendas_reg.drop(labels = \"data_pedido\", axis = 1, inplace = True)\n",
    "\n",
    "df_vendas_reg\n"
   ]
  },
  {
   "cell_type": "markdown",
   "id": "bd426ee9-5e42-4ebf-bddd-5e3ef88d1b80",
   "metadata": {},
   "source": [
    "## Tabelas cruzadas (Cross Table)\r\n"
   ]
  },
  {
   "cell_type": "markdown",
   "id": "85cbb825-7662-4dcf-8f2d-6bd7dde8906c",
   "metadata": {},
   "source": [
    " Uma tabela cruzada basicamente faz a agregação de valores que tenham relação entre si. Então, queremos relacionar dois tipos diferentes de colunas, pegando os valores das colunas.\n",
    " Em vez de passar uma coluna inteira, como é regiao ou ano, pegaremos os valores que estão dentro de regiao e de ano, e transformaremos em linhas e colunas.\r\n",
    "\r\n",
    "No nosso caso, transformaremos a coluna ano em linhas, e a coluna regiao em colunas. Os valores que estarão entre eles, serão justamente o somatório do valor de venda."
   ]
  },
  {
   "cell_type": "code",
   "execution_count": 17,
   "id": "a8773ac2-62e3-4046-beee-0e63666c659b",
   "metadata": {},
   "outputs": [],
   "source": [
    "# Criando uma tabela cruzada (crosstab) com os valores de venda de cada ano por região\n",
    "vendas_reg = pd.crosstab(index = df_vendas_reg.ano, columns = df_vendas_reg.regiao, values = df_vendas_reg.vendas, aggfunc = \"sum\")"
   ]
  },
  {
   "cell_type": "code",
   "execution_count": 18,
   "id": "e8d0bfbc-32fc-4f89-9a37-4d4946d729de",
   "metadata": {},
   "outputs": [
    {
     "data": {
      "text/html": [
       "<div>\n",
       "<style scoped>\n",
       "    .dataframe tbody tr th:only-of-type {\n",
       "        vertical-align: middle;\n",
       "    }\n",
       "\n",
       "    .dataframe tbody tr th {\n",
       "        vertical-align: top;\n",
       "    }\n",
       "\n",
       "    .dataframe thead th {\n",
       "        text-align: right;\n",
       "    }\n",
       "</style>\n",
       "<table border=\"1\" class=\"dataframe\">\n",
       "  <thead>\n",
       "    <tr style=\"text-align: right;\">\n",
       "      <th>regiao</th>\n",
       "      <th>Sudeste</th>\n",
       "      <th>Nordeste</th>\n",
       "      <th>Centro-Oeste</th>\n",
       "      <th>Norte</th>\n",
       "      <th>Sul</th>\n",
       "    </tr>\n",
       "    <tr>\n",
       "      <th>ano</th>\n",
       "      <th></th>\n",
       "      <th></th>\n",
       "      <th></th>\n",
       "      <th></th>\n",
       "      <th></th>\n",
       "    </tr>\n",
       "  </thead>\n",
       "  <tbody>\n",
       "    <tr>\n",
       "      <th>2016</th>\n",
       "      <td>739602.18</td>\n",
       "      <td>378521.83</td>\n",
       "      <td>121653.63</td>\n",
       "      <td>101580.57</td>\n",
       "      <td>61294.12</td>\n",
       "    </tr>\n",
       "    <tr>\n",
       "      <th>2017</th>\n",
       "      <td>803005.61</td>\n",
       "      <td>320804.28</td>\n",
       "      <td>149215.00</td>\n",
       "      <td>124164.47</td>\n",
       "      <td>91990.16</td>\n",
       "    </tr>\n",
       "    <tr>\n",
       "      <th>2018</th>\n",
       "      <td>1033836.21</td>\n",
       "      <td>401365.77</td>\n",
       "      <td>208068.71</td>\n",
       "      <td>108710.09</td>\n",
       "      <td>132180.63</td>\n",
       "    </tr>\n",
       "    <tr>\n",
       "      <th>2019</th>\n",
       "      <td>1146764.08</td>\n",
       "      <td>600738.87</td>\n",
       "      <td>257781.18</td>\n",
       "      <td>170311.34</td>\n",
       "      <td>129410.82</td>\n",
       "    </tr>\n",
       "  </tbody>\n",
       "</table>\n",
       "</div>"
      ],
      "text/plain": [
       "regiao     Sudeste   Nordeste  Centro-Oeste      Norte        Sul\n",
       "ano                                                              \n",
       "2016     739602.18  378521.83     121653.63  101580.57   61294.12\n",
       "2017     803005.61  320804.28     149215.00  124164.47   91990.16\n",
       "2018    1033836.21  401365.77     208068.71  108710.09  132180.63\n",
       "2019    1146764.08  600738.87     257781.18  170311.34  129410.82"
      ]
     },
     "execution_count": 18,
     "metadata": {},
     "output_type": "execute_result"
    }
   ],
   "source": [
    "# Ajustando a tabela em ordem descrescente dos estados que mais executam vendas\n",
    "vendas_reg = vendas_reg[[\"Sudeste\", \"Nordeste\", \"Centro-Oeste\", \"Norte\", \"Sul\"]]\n",
    "vendas_reg"
   ]
  },
  {
   "cell_type": "code",
   "execution_count": 19,
   "id": "a3d63aa1-6fab-49fb-8cc6-00bbebdb4de0",
   "metadata": {},
   "outputs": [],
   "source": [
    "## Gerando a função para criar o gráfico de barras\n",
    "\n",
    "def grafico_vendas_regiao():\n",
    "  # Definindo as cores do gráfico\n",
    "  cores = [AZUL2, AZUL3, AZUL4, CINZA3, CINZA4]\n",
    "  # Gerando o gráfico de colunas empilhadas \n",
    "  ax = vendas_reg.plot(kind=\"bar\", stacked=True, figsize=(10,6), color = cores)\n",
    "    # Personalizando o gráfico\n",
    "  ax.set_title('Vendas das lojas de departamentos por região\\nde 2016 a 2019', loc='left', fontsize=22, color = CINZA1)\n",
    "  ax.set_xlabel('')\n",
    "  ax.set_ylabel('')\n",
    "  ax.set_yticklabels([])\n",
    "  ax.xaxis.set_tick_params(labelsize=14, labelcolor = CINZA2, rotation = 0)\n",
    "  ax.set_frame_on(False)\n",
    " # remover todos os ticks do eixo x e y\n",
    "  ax.tick_params(axis=\"both\", which=\"both\", length=0)\n",
    "    # Anotando uma conclusão no gráfico\n",
    "  ax.text(3.35, 1.1e6, '87%', fontweight='bold', fontsize=20, color=AZUL1)\n",
    "  ax.text(3.35, 5.5e5,\n",
    "            'das vendas nas lojas\\n'\n",
    "            'estão concentradas nas regiões\\n'\n",
    "            '$\\\\bf{Sudeste}$, $\\\\bf{Nordeste}$ e\\n'\n",
    "            '$\\\\bf{Centro-Oeste}$ em 2019.',\n",
    "            fontsize=14,\n",
    "            linespacing=1.45,\n",
    "            color=AZUL1)\n",
    "  return ax"
   ]
  },
  {
   "cell_type": "code",
   "execution_count": 20,
   "id": "c8271b32-a718-473b-9176-aae287d24e3d",
   "metadata": {
    "scrolled": true
   },
   "outputs": [
    {
     "data": {
      "image/png": "[encoded data removed]",
      "text/plain": [
       "<Figure size 1000x600 with 1 Axes>"
      ]
     },
     "metadata": {},
     "output_type": "display_data"
    }
   ],
   "source": [
    "# Chamando a função do gráfico\n",
    "ax = grafico_vendas_regiao()\n",
    "# Personalizando a legenda\n",
    "ax.legend(bbox_to_anchor=(1,1), reverse = True, title = \"Região\", title_fontsize = 12, fontsize = 12)\n",
    "# Adicionando os valores\n",
    "for container in ax.containers:\n",
    "  labels = [f'R$ {valor.get_height()/1000:,.0f}k'.replace(\",\",\".\") for valor in container]\n",
    "  ax.bar_label(container, label_type=\"center\", labels = labels, size = 10, color = CINZA5, fontweight = \"bold\")\n",
    "\n",
    "fig = ax.get_figure()\n"
   ]
  },
  {
   "cell_type": "markdown",
   "id": "6c956a8b-1dea-47c6-abc5-587df3409b76",
   "metadata": {},
   "source": [
    "O crosstab, ou tabela cruzada, é uma função da biblioteca pandas utilizada para analisar a relação entre duas variáveis categóricas. Ela cria uma tabela com as variáveis categóricas como índices e colunas onde são exibidos os valores únicos de cada variável nesse formato. Os valores da tabela são a combinação entre as duas variáveis.\n",
    "A sintaxe básica do crosstab é a seguinte:\r\n",
    "\r\n"
   ]
  },
  {
   "cell_type": "markdown",
   "id": "37db96d4-194c-4d45-b434-a58d165c36d8",
   "metadata": {},
   "source": [
    "pd.crosstab(index, columns, values, aggfunc, normalize)\n"
   ]
  },
  {
   "cell_type": "markdown",
   "id": "ccb6f40c-5e93-4b8a-9b57-0491087ce082",
   "metadata": {},
   "source": [
    "Onde:\n",
    "- \r\n",
    "index: valores para agrupar nas linhas da tabel- a\r\n",
    "columns: valores para agrupar nas colunas da tabe- la\r\n",
    "values: valores da tabela a partir da função de agregação (aggfu- nc)\r\n",
    "aggfunc: função de agregação dos dados, por exemplo ”- sum”\r\n",
    "normalize: normalização dos dados. Pode ser por colunas, linhas ou ambos."
   ]
  },
  {
   "cell_type": "markdown",
   "id": "3b18e0c0-6221-4448-b2b8-24bcddf2e786",
   "metadata": {},
   "source": [
    "# Gráfico de barras empilhadas\r\n"
   ]
  },
  {
   "cell_type": "code",
   "execution_count": 21,
   "id": "154b78ba-0a0a-48a1-a04c-c29af281f79e",
   "metadata": {},
   "outputs": [],
   "source": [
    "# Criando um df com os dados desejados\n",
    "df_envio = vendas.copy()\n",
    "df_envio = df_envio[['modo_envio', 'segmento_cliente']]\n"
   ]
  },
  {
   "cell_type": "markdown",
   "id": "b93b2d88-1885-4626-bc59-ccb4860044f2",
   "metadata": {},
   "source": [
    "Se estamos trabalhando com dois dados categóricos, como pegar esses valores?"
   ]
  },
  {
   "cell_type": "code",
   "execution_count": 22,
   "id": "85a44d91-9ceb-4275-b770-7f25964d9a21",
   "metadata": {},
   "outputs": [
    {
     "data": {
      "text/html": [
       "<div>\n",
       "<style scoped>\n",
       "    .dataframe tbody tr th:only-of-type {\n",
       "        vertical-align: middle;\n",
       "    }\n",
       "\n",
       "    .dataframe tbody tr th {\n",
       "        vertical-align: top;\n",
       "    }\n",
       "\n",
       "    .dataframe thead th {\n",
       "        text-align: right;\n",
       "    }\n",
       "</style>\n",
       "<table border=\"1\" class=\"dataframe\">\n",
       "  <thead>\n",
       "    <tr style=\"text-align: right;\">\n",
       "      <th>segmento_cliente</th>\n",
       "      <th>B2B</th>\n",
       "      <th>B2C</th>\n",
       "    </tr>\n",
       "    <tr>\n",
       "      <th>modo_envio</th>\n",
       "      <th></th>\n",
       "      <th></th>\n",
       "    </tr>\n",
       "  </thead>\n",
       "  <tbody>\n",
       "    <tr>\n",
       "      <th>24 horas</th>\n",
       "      <td>207</td>\n",
       "      <td>288</td>\n",
       "    </tr>\n",
       "    <tr>\n",
       "      <th>Envio rápido</th>\n",
       "      <td>676</td>\n",
       "      <td>673</td>\n",
       "    </tr>\n",
       "    <tr>\n",
       "      <th>Econômica</th>\n",
       "      <td>829</td>\n",
       "      <td>906</td>\n",
       "    </tr>\n",
       "    <tr>\n",
       "      <th>Entrega padrão</th>\n",
       "      <td>2552</td>\n",
       "      <td>2809</td>\n",
       "    </tr>\n",
       "  </tbody>\n",
       "</table>\n",
       "</div>"
      ],
      "text/plain": [
       "segmento_cliente   B2B   B2C\n",
       "modo_envio                  \n",
       "24 horas           207   288\n",
       "Envio rápido       676   673\n",
       "Econômica          829   906\n",
       "Entrega padrão    2552  2809"
      ]
     },
     "execution_count": 22,
     "metadata": {},
     "output_type": "execute_result"
    }
   ],
   "source": [
    "# Criando uma tabela cruzada (crosstab) com os modos de envio divididos pelos clientes B2C e B2B\n",
    "df_envio_seg = pd.crosstab(index = df_envio.modo_envio, columns = df_envio.segmento_cliente).sort_values(\"B2B\")\n",
    "\n",
    "df_envio_seg\n"
   ]
  },
  {
   "cell_type": "code",
   "execution_count": 23,
   "id": "3e320415-04de-4c89-aa67-0253a4ef510f",
   "metadata": {},
   "outputs": [
    {
     "data": {
      "text/html": [
       "<div>\n",
       "<style scoped>\n",
       "    .dataframe tbody tr th:only-of-type {\n",
       "        vertical-align: middle;\n",
       "    }\n",
       "\n",
       "    .dataframe tbody tr th {\n",
       "        vertical-align: top;\n",
       "    }\n",
       "\n",
       "    .dataframe thead th {\n",
       "        text-align: right;\n",
       "    }\n",
       "</style>\n",
       "<table border=\"1\" class=\"dataframe\">\n",
       "  <thead>\n",
       "    <tr style=\"text-align: right;\">\n",
       "      <th>segmento_cliente</th>\n",
       "      <th>B2B</th>\n",
       "      <th>B2C</th>\n",
       "    </tr>\n",
       "    <tr>\n",
       "      <th>modo_envio</th>\n",
       "      <th></th>\n",
       "      <th></th>\n",
       "    </tr>\n",
       "  </thead>\n",
       "  <tbody>\n",
       "    <tr>\n",
       "      <th>24 horas</th>\n",
       "      <td>0.418182</td>\n",
       "      <td>0.581818</td>\n",
       "    </tr>\n",
       "    <tr>\n",
       "      <th>Econômica</th>\n",
       "      <td>0.477810</td>\n",
       "      <td>0.522190</td>\n",
       "    </tr>\n",
       "    <tr>\n",
       "      <th>Entrega padrão</th>\n",
       "      <td>0.476031</td>\n",
       "      <td>0.523969</td>\n",
       "    </tr>\n",
       "    <tr>\n",
       "      <th>Envio rápido</th>\n",
       "      <td>0.501112</td>\n",
       "      <td>0.498888</td>\n",
       "    </tr>\n",
       "  </tbody>\n",
       "</table>\n",
       "</div>"
      ],
      "text/plain": [
       "segmento_cliente       B2B       B2C\n",
       "modo_envio                          \n",
       "24 horas          0.418182  0.581818\n",
       "Econômica         0.477810  0.522190\n",
       "Entrega padrão    0.476031  0.523969\n",
       "Envio rápido      0.501112  0.498888"
      ]
     },
     "execution_count": 23,
     "metadata": {},
     "output_type": "execute_result"
    }
   ],
   "source": [
    "# Criando uma tabela cruzada (crosstab) com os modos de envio divididos pelos clientes B2C e B2B normalizado\n",
    "df_envio_normalizado = pd.crosstab(index = df_envio.modo_envio, columns = df_envio.segmento_cliente, normalize = \"index\")\n",
    "\n",
    "df_envio_normalizado\n"
   ]
  },
  {
   "cell_type": "markdown",
   "id": "418cca52-cf70-42f1-9a40-81c08c1c848a",
   "metadata": {},
   "source": [
    "### Gerando o gráfico\r\n"
   ]
  },
  {
   "cell_type": "code",
   "execution_count": 24,
   "id": "29677d05-b105-4774-a002-7ff4d41ad1af",
   "metadata": {},
   "outputs": [],
   "source": [
    "# Função para escrita de texto utilizando diferentes cores. Não existe uma \n",
    "# função nativa para isso. (Adaptado de https://github.com/empathy87/storytelling-with-data)\n",
    "from matplotlib import transforms\n",
    "\n",
    "def texto_colorido(x, y, texto, cores, esp=20, ax=None, **kw):\n",
    "    cores = list(reversed(cores))\n",
    "    t = ax.transData\n",
    "    canvas = ax.figure.canvas\n",
    "\n",
    "    for i, linha in enumerate(reversed(texto.split('\\n'))):\n",
    "        frases = linha.split('||')\n",
    "        for s, cor in zip(frases, cores[i]):\n",
    "            texto = ax.text(x, y, s, color=cor, transform=t, **kw)\n",
    "            texto.draw(canvas.get_renderer())\n",
    "            ex = texto.get_window_extent()\n",
    "            t = transforms.offset_copy(texto._transform, x=ex.width, \n",
    "                                       units='dots')\n",
    "\n",
    "        t = transforms.offset_copy(ax.transData, x=0, y=(i + 1) * esp, units='dots')\n"
   ]
  },
  {
   "cell_type": "code",
   "execution_count": 25,
   "id": "db6c3516-18b1-48cd-bff2-70c18f9dfbc7",
   "metadata": {},
   "outputs": [
    {
     "name": "stderr",
     "output_type": "stream",
     "text": [
      "C:\\Users\\mariv\\AppData\\Local\\Temp\\ipykernel_16904\\867874092.py:48: UserWarning: FigureCanvasAgg is non-interactive, and thus cannot be shown\n",
      "  fig.show()\n"
     ]
    },
    {
     "data": {
      "image/png": "[encoded data removed]",
      "text/plain": [
       "<Figure size 1000x600 with 2 Axes>"
      ]
     },
     "metadata": {},
     "output_type": "display_data"
    }
   ],
   "source": [
    "## Configurando o gráfico com parâmetros que potencializam a visualização dos dados\n",
    "\n",
    "# Importando as bibliotecas\n",
    "import matplotlib.pyplot as plt\n",
    "# Área do gráfico e tema da visualização\n",
    "fig, axs = plt.subplots(1, 2, figsize=(10,6), sharey = True)\n",
    "# Definindo as cores do gráfico\n",
    "cores = [AZUL2, AZUL5]\n",
    "# GRÁFICO 1 - Barras empilhadas\n",
    "axs[0].barh(df_envio_seg.index, df_envio_seg[\"B2B\"], color = cores[0])\n",
    "axs[0].barh(df_envio_seg.index, df_envio_seg[\"B2C\"], left = df_envio_seg[\"B2B\"], color = cores[1])\n",
    "axs[0].set_title('Em valores absolutos\\n', color = CINZA2)\n",
    "axs[0].set_xlabel('')\n",
    "axs[0].set_ylabel('')\n",
    "axs[0].set_xticklabels([])\n",
    "axs[0].yaxis.set_tick_params(labelsize=14, color = CINZA2)\n",
    "axs[0].set_frame_on(False)\n",
    "\n",
    "# remover todos os ticks do eixo x e y\n",
    "axs[0].tick_params(axis='both', which='both', length=0)\n",
    "\n",
    "texto_colorido(0, 3.5, '$\\\\bf{B2B}$ | || $\\\\bf{B2C}$', cores = [cores], ax=axs[0], fontsize=12) # legenda\n",
    "# GRÁFICO 2 - Barras empilhadas 100 %\n",
    "axs[1].barh(df_envio_normalizado.index, df_envio_normalizado[\"B2B\"], color = cores[0])\n",
    "axs[1].barh(df_envio_normalizado.index, df_envio_normalizado[\"B2C\"], left = df_envio_normalizado[\"B2B\"], color = cores[1])\n",
    "axs[1].set_title('Em porcentagem\\n', color = CINZA2)\n",
    "axs[1].set_xlabel('100%', color = CINZA2, size = 14, loc='right')\n",
    "axs[1].set_ylabel('')\n",
    "axs[1].set_xticklabels([])\n",
    "axs[1].set_frame_on(False)\n",
    "\n",
    "# remover todos os ticks do eixo x e y\n",
    "axs[1].tick_params(axis='both', which='both', length=0)\n",
    "\n",
    "texto_colorido(0, 3.5, '$\\\\bf{B2B}$ | || $\\\\bf{B2C}$', cores = [cores], ax=axs[1], fontsize=12) # legenda\n",
    "# Título dos gráficos\n",
    "fig.suptitle(\"Modo de envio mais utilizado pelos clientes B2B/B2C (2016-2019)\\n\", \n",
    "             fontsize=18, color=CINZA1, ha = 'right', x = 0.95, y = 1.05)\n",
    "# Valores das barras\n",
    "for container in axs[0].containers:\n",
    "    labels = [str(valor.get_width()) if valor.get_width() > 300 else '' for valor in container]\n",
    "    axs[0].bar_label(container, label_type='center', labels = labels, size = 12, color = CINZA5, fontweight='bold')\n",
    "\n",
    "for container in axs[1].containers:\n",
    "    labels = [f'{valor.get_width()*100:.1f}%' for valor in container]\n",
    "    axs[1].bar_label(container, label_type='center', labels = labels, size = 12, color = CINZA5, fontweight='bold')\n",
    "\n",
    "fig.show()"
   ]
  },
  {
   "cell_type": "markdown",
   "id": "c11e6560-631e-465d-96e4-e324f1b294be",
   "metadata": {},
   "source": [
    "## Gráfico de Linha simples"
   ]
  },
  {
   "cell_type": "markdown",
   "id": "d3d42df9-1d7e-4ddc-9a17-efda594e8de5",
   "metadata": {},
   "source": [
    "Qual o total de vendas por trimestre do estado de São Paulo?\r\n",
    "\r\n"
   ]
  },
  {
   "cell_type": "markdown",
   "id": "559fd015-7d46-41dd-80d6-6fef9f43878e",
   "metadata": {},
   "source": [
    "#### Tratando os dados\r\n"
   ]
  },
  {
   "cell_type": "code",
   "execution_count": 26,
   "id": "fda2ff68-fbf5-4809-be2e-6b30a83b1197",
   "metadata": {},
   "outputs": [
    {
     "data": {
      "text/html": [
       "<div>\n",
       "<style scoped>\n",
       "    .dataframe tbody tr th:only-of-type {\n",
       "        vertical-align: middle;\n",
       "    }\n",
       "\n",
       "    .dataframe tbody tr th {\n",
       "        vertical-align: top;\n",
       "    }\n",
       "\n",
       "    .dataframe thead th {\n",
       "        text-align: right;\n",
       "    }\n",
       "</style>\n",
       "<table border=\"1\" class=\"dataframe\">\n",
       "  <thead>\n",
       "    <tr style=\"text-align: right;\">\n",
       "      <th></th>\n",
       "      <th>data_pedido</th>\n",
       "      <th>vendas</th>\n",
       "    </tr>\n",
       "  </thead>\n",
       "  <tbody>\n",
       "    <tr>\n",
       "      <th>0</th>\n",
       "      <td>2016-03-31</td>\n",
       "      <td>41.87</td>\n",
       "    </tr>\n",
       "    <tr>\n",
       "      <th>1</th>\n",
       "      <td>2016-06-30</td>\n",
       "      <td>43.79</td>\n",
       "    </tr>\n",
       "    <tr>\n",
       "      <th>2</th>\n",
       "      <td>2016-09-30</td>\n",
       "      <td>154.91</td>\n",
       "    </tr>\n",
       "    <tr>\n",
       "      <th>3</th>\n",
       "      <td>2016-12-31</td>\n",
       "      <td>144.82</td>\n",
       "    </tr>\n",
       "    <tr>\n",
       "      <th>4</th>\n",
       "      <td>2017-03-31</td>\n",
       "      <td>36.13</td>\n",
       "    </tr>\n",
       "    <tr>\n",
       "      <th>5</th>\n",
       "      <td>2017-06-30</td>\n",
       "      <td>76.86</td>\n",
       "    </tr>\n",
       "    <tr>\n",
       "      <th>6</th>\n",
       "      <td>2017-09-30</td>\n",
       "      <td>129.76</td>\n",
       "    </tr>\n",
       "    <tr>\n",
       "      <th>7</th>\n",
       "      <td>2017-12-31</td>\n",
       "      <td>197.94</td>\n",
       "    </tr>\n",
       "    <tr>\n",
       "      <th>8</th>\n",
       "      <td>2018-03-31</td>\n",
       "      <td>44.26</td>\n",
       "    </tr>\n",
       "    <tr>\n",
       "      <th>9</th>\n",
       "      <td>2018-06-30</td>\n",
       "      <td>109.64</td>\n",
       "    </tr>\n",
       "    <tr>\n",
       "      <th>10</th>\n",
       "      <td>2018-09-30</td>\n",
       "      <td>127.72</td>\n",
       "    </tr>\n",
       "    <tr>\n",
       "      <th>11</th>\n",
       "      <td>2018-12-31</td>\n",
       "      <td>269.44</td>\n",
       "    </tr>\n",
       "    <tr>\n",
       "      <th>12</th>\n",
       "      <td>2019-03-31</td>\n",
       "      <td>65.07</td>\n",
       "    </tr>\n",
       "    <tr>\n",
       "      <th>13</th>\n",
       "      <td>2019-06-30</td>\n",
       "      <td>85.11</td>\n",
       "    </tr>\n",
       "    <tr>\n",
       "      <th>14</th>\n",
       "      <td>2019-09-30</td>\n",
       "      <td>158.01</td>\n",
       "    </tr>\n",
       "    <tr>\n",
       "      <th>15</th>\n",
       "      <td>2019-12-31</td>\n",
       "      <td>325.57</td>\n",
       "    </tr>\n",
       "  </tbody>\n",
       "</table>\n",
       "</div>"
      ],
      "text/plain": [
       "   data_pedido  vendas\n",
       "0   2016-03-31   41.87\n",
       "1   2016-06-30   43.79\n",
       "2   2016-09-30  154.91\n",
       "3   2016-12-31  144.82\n",
       "4   2017-03-31   36.13\n",
       "5   2017-06-30   76.86\n",
       "6   2017-09-30  129.76\n",
       "7   2017-12-31  197.94\n",
       "8   2018-03-31   44.26\n",
       "9   2018-06-30  109.64\n",
       "10  2018-09-30  127.72\n",
       "11  2018-12-31  269.44\n",
       "12  2019-03-31   65.07\n",
       "13  2019-06-30   85.11\n",
       "14  2019-09-30  158.01\n",
       "15  2019-12-31  325.57"
      ]
     },
     "execution_count": 26,
     "metadata": {},
     "output_type": "execute_result"
    }
   ],
   "source": [
    "df_sp = vendas.copy()\n",
    "df_sp = df_sp.query('estado == \"São Paulo\"')[[\"data_pedido\", \"vendas\"]]\n",
    "\n",
    "df_sp.set_index(\"data_pedido\", inplace = True)\n",
    "df_sp = df_sp.resample(\"Q\").agg(\"sum\")\n",
    "\n",
    "df_sp[\"vendas\"] = round(df_sp[\"vendas\"] / 1e3 , 2)\n",
    "df_sp = df_sp.reset_index()\n",
    "df_sp"
   ]
  },
  {
   "cell_type": "code",
   "execution_count": 27,
   "id": "38fa8ead-8a41-4404-a9f8-71046fc1f00f",
   "metadata": {},
   "outputs": [],
   "source": [
    "def grafico_vendas_sp_tri():\n",
    "\n",
    "    import matplotlib.pyplot as plt\n",
    "\n",
    "    # Area do grafico e tema da visualizacao\n",
    "    fig, ax = plt.subplots(figsize=(14,4))\n",
    "\n",
    "    # GRafico de linha\n",
    "    pontos_a_marcar = [True if mes == 12 else False for mes in df_sp[\"data_pedido\"].dt.month]\n",
    "    \n",
    "    ax.plot(df_sp[\"data_pedido\"], df_sp[\"vendas\"], lw = 3, color = AZUL5, marker = \"o\", markersize = 10, markerfacecolor = AZUL2, markevery =  pontos_a_marcar)\n",
    "\n",
    "    # Personalizando o grafico\n",
    "    ax.set_title('Vendas por trimestre no estado de São Paulo', fontsize = 18, color = CINZA1, loc='left')\n",
    "    ax.text(0.3, 0.95, \"De 2016 a 2019 (em milhares de reais)\", transform=ax.transAxes, color= CINZA2, fontsize=12, ha='right', va='center')\n",
    "    ax.set_xlabel('')\n",
    "    ax.set_ylabel('')\n",
    "    ax.set_yticklabels([])\n",
    "    ax.set_frame_on(False)\n",
    "    ax.xaxis.set_tick_params(labelsize=14, labelcolor = CINZA2)\n",
    "    \n",
    "    ax.tick_params(axis='both', which='both', length=0)\n",
    "\n",
    "    plt.ylim(0, 400)\n",
    "    return ax\n"
   ]
  },
  {
   "cell_type": "code",
   "execution_count": 28,
   "id": "11ecf48c-163f-45ae-8a2e-576691170dd0",
   "metadata": {},
   "outputs": [
    {
     "data": {
      "image/png": "[encoded data removed]",
      "text/plain": [
       "<Figure size 1400x400 with 1 Axes>"
      ]
     },
     "metadata": {},
     "output_type": "display_data"
    }
   ],
   "source": [
    "\n",
    "ax_sp = grafico_vendas_sp_tri()"
   ]
  },
  {
   "cell_type": "code",
   "execution_count": 29,
   "id": "23c275a7-f136-4e67-be6f-d315ed126fcb",
   "metadata": {},
   "outputs": [
    {
     "data": {
      "image/png": "[encoded data removed]",
      "text/plain": [
       "<Figure size 1400x400 with 1 Axes>"
      ]
     },
     "metadata": {},
     "output_type": "display_data"
    }
   ],
   "source": [
    "# Essa biblioteca é responsável por tratar as variáveis de tempo\n",
    "import matplotlib.dates as mdates\n",
    "\n",
    "ax = grafico_vendas_sp_tri()\n",
    "\n",
    "ax.xaxis.set_major_locator(mdates.MonthLocator(interval = 3))\n",
    "ax.xaxis.set_major_formatter(mdates.DateFormatter(\"%b\"))\n",
    "x_labels = [\"Mar\", \"Jun\", \"Set\", \"Dez\"] * 4\n",
    "ax.set_xticks(df_sp.data_pedido)\n",
    "ax.set_xticklabels(x_labels, ha = \"center\")\n",
    "texto = [16*\" \" + str(i) + 16*\" \" for i in range(2016, 2020)]\n",
    "ax.text(ax.get_xbound()[0] + 35, - 80, f'|{texto[0]}|{texto[1]}|{texto[2]}|{texto[3]}|', fontsize=14, color=CINZA2)\n",
    "\n",
    "ano = 0\n",
    "for i in range(3, len(df_sp[\"vendas\"]), 4):\n",
    "  ax.text(x = ax.get_xticks()[i], y = df_sp[\"vendas\"][i] + 20, s = f\"R$ {df_sp['vendas'][i]} mil\", color = AZUL2, weight = \"bold\", fontsize = 10)\n",
    "  ax.text(x = ax.get_xticks()[i] + 160, y = df_sp[\"vendas\"][i] + 20, s = f\"(4º Tri {2016 + ano})\", color = CINZA2, weight = \"bold\", fontsize = 10)\n",
    "  ano +=1\n",
    "    \n",
    "# Código omitido\n",
    "\n",
    "fig = ax.get_figure()\n"
   ]
  },
  {
   "cell_type": "markdown",
   "id": "2fbf01a6-6a92-4797-acbf-d5cc0dff8561",
   "metadata": {},
   "source": [
    "# Gráficos de linhas múltiplas"
   ]
  },
  {
   "cell_type": "code",
   "execution_count": 30,
   "id": "77c0e8f8-c7cb-4c1b-b564-360d3d43dfe1",
   "metadata": {},
   "outputs": [
    {
     "data": {
      "text/html": [
       "<div>\n",
       "<style scoped>\n",
       "    .dataframe tbody tr th:only-of-type {\n",
       "        vertical-align: middle;\n",
       "    }\n",
       "\n",
       "    .dataframe tbody tr th {\n",
       "        vertical-align: top;\n",
       "    }\n",
       "\n",
       "    .dataframe thead th {\n",
       "        text-align: right;\n",
       "    }\n",
       "</style>\n",
       "<table border=\"1\" class=\"dataframe\">\n",
       "  <thead>\n",
       "    <tr style=\"text-align: right;\">\n",
       "      <th>regiao</th>\n",
       "      <th>Sudeste</th>\n",
       "      <th>Nordeste</th>\n",
       "      <th>Centro-Oeste</th>\n",
       "      <th>Norte</th>\n",
       "      <th>Sul</th>\n",
       "    </tr>\n",
       "    <tr>\n",
       "      <th>data_pedido</th>\n",
       "      <th></th>\n",
       "      <th></th>\n",
       "      <th></th>\n",
       "      <th></th>\n",
       "      <th></th>\n",
       "    </tr>\n",
       "  </thead>\n",
       "  <tbody>\n",
       "    <tr>\n",
       "      <th>2016-01-04</th>\n",
       "      <td>55.92</td>\n",
       "      <td>NaN</td>\n",
       "      <td>NaN</td>\n",
       "      <td>NaN</td>\n",
       "      <td>NaN</td>\n",
       "    </tr>\n",
       "    <tr>\n",
       "      <th>2016-01-05</th>\n",
       "      <td>979.42</td>\n",
       "      <td>NaN</td>\n",
       "      <td>NaN</td>\n",
       "      <td>NaN</td>\n",
       "      <td>NaN</td>\n",
       "    </tr>\n",
       "    <tr>\n",
       "      <th>2016-01-06</th>\n",
       "      <td>NaN</td>\n",
       "      <td>NaN</td>\n",
       "      <td>66.42</td>\n",
       "      <td>NaN</td>\n",
       "      <td>NaN</td>\n",
       "    </tr>\n",
       "    <tr>\n",
       "      <th>2016-01-07</th>\n",
       "      <td>14940.66</td>\n",
       "      <td>43.44</td>\n",
       "      <td>NaN</td>\n",
       "      <td>NaN</td>\n",
       "      <td>NaN</td>\n",
       "    </tr>\n",
       "    <tr>\n",
       "      <th>2016-01-08</th>\n",
       "      <td>296.37</td>\n",
       "      <td>NaN</td>\n",
       "      <td>NaN</td>\n",
       "      <td>NaN</td>\n",
       "      <td>NaN</td>\n",
       "    </tr>\n",
       "    <tr>\n",
       "      <th>...</th>\n",
       "      <td>...</td>\n",
       "      <td>...</td>\n",
       "      <td>...</td>\n",
       "      <td>...</td>\n",
       "      <td>...</td>\n",
       "    </tr>\n",
       "    <tr>\n",
       "      <th>2019-12-27</th>\n",
       "      <td>NaN</td>\n",
       "      <td>2552.32</td>\n",
       "      <td>152.15</td>\n",
       "      <td>NaN</td>\n",
       "      <td>10.64</td>\n",
       "    </tr>\n",
       "    <tr>\n",
       "      <th>2019-12-28</th>\n",
       "      <td>603.96</td>\n",
       "      <td>NaN</td>\n",
       "      <td>NaN</td>\n",
       "      <td>NaN</td>\n",
       "      <td>NaN</td>\n",
       "    </tr>\n",
       "    <tr>\n",
       "      <th>2019-12-29</th>\n",
       "      <td>677.65</td>\n",
       "      <td>4079.73</td>\n",
       "      <td>NaN</td>\n",
       "      <td>456.94</td>\n",
       "      <td>NaN</td>\n",
       "    </tr>\n",
       "    <tr>\n",
       "      <th>2019-12-30</th>\n",
       "      <td>8900.41</td>\n",
       "      <td>712.98</td>\n",
       "      <td>NaN</td>\n",
       "      <td>NaN</td>\n",
       "      <td>NaN</td>\n",
       "    </tr>\n",
       "    <tr>\n",
       "      <th>2019-12-31</th>\n",
       "      <td>1705.02</td>\n",
       "      <td>NaN</td>\n",
       "      <td>NaN</td>\n",
       "      <td>NaN</td>\n",
       "      <td>711.62</td>\n",
       "    </tr>\n",
       "  </tbody>\n",
       "</table>\n",
       "<p>1209 rows × 5 columns</p>\n",
       "</div>"
      ],
      "text/plain": [
       "regiao        Sudeste  Nordeste  Centro-Oeste   Norte     Sul\n",
       "data_pedido                                                  \n",
       "2016-01-04      55.92       NaN           NaN     NaN     NaN\n",
       "2016-01-05     979.42       NaN           NaN     NaN     NaN\n",
       "2016-01-06        NaN       NaN         66.42     NaN     NaN\n",
       "2016-01-07   14940.66     43.44           NaN     NaN     NaN\n",
       "2016-01-08     296.37       NaN           NaN     NaN     NaN\n",
       "...               ...       ...           ...     ...     ...\n",
       "2019-12-27        NaN   2552.32        152.15     NaN   10.64\n",
       "2019-12-28     603.96       NaN           NaN     NaN     NaN\n",
       "2019-12-29     677.65   4079.73           NaN  456.94     NaN\n",
       "2019-12-30    8900.41    712.98           NaN     NaN     NaN\n",
       "2019-12-31    1705.02       NaN           NaN     NaN  711.62\n",
       "\n",
       "[1209 rows x 5 columns]"
      ]
     },
     "execution_count": 30,
     "metadata": {},
     "output_type": "execute_result"
    }
   ],
   "source": [
    "df_regiao = vendas.copy()\n",
    "df_regiao = df_regiao[[\"regiao\", \"data_pedido\", \"vendas\"]]\n",
    "\n",
    "\n",
    "df_regiao = pd.crosstab(index = df_regiao.data_pedido, columns = df_regiao.regiao, values = df_regiao.vendas, aggfunc=\"sum\")\n",
    "\n",
    "\n",
    "df_regiao = df_regiao[[\"Sudeste\", \"Nordeste\", \"Centro-Oeste\", \"Norte\", \"Sul\"]]\n",
    "df_regiao\n"
   ]
  },
  {
   "cell_type": "markdown",
   "id": "345e3fa4-d2ea-4d64-9924-cbdd647639a3",
   "metadata": {},
   "source": [
    "### Agrupando as vendas por trimestre\r\n"
   ]
  },
  {
   "cell_type": "code",
   "execution_count": 31,
   "id": "5bab5d1d-1fa9-4768-8bae-d35dd8cf60d1",
   "metadata": {},
   "outputs": [
    {
     "data": {
      "text/html": [
       "<div>\n",
       "<style scoped>\n",
       "    .dataframe tbody tr th:only-of-type {\n",
       "        vertical-align: middle;\n",
       "    }\n",
       "\n",
       "    .dataframe tbody tr th {\n",
       "        vertical-align: top;\n",
       "    }\n",
       "\n",
       "    .dataframe thead th {\n",
       "        text-align: right;\n",
       "    }\n",
       "</style>\n",
       "<table border=\"1\" class=\"dataframe\">\n",
       "  <thead>\n",
       "    <tr style=\"text-align: right;\">\n",
       "      <th>regiao</th>\n",
       "      <th>Sudeste</th>\n",
       "      <th>Nordeste</th>\n",
       "      <th>Centro-Oeste</th>\n",
       "      <th>Norte</th>\n",
       "      <th>Sul</th>\n",
       "    </tr>\n",
       "    <tr>\n",
       "      <th>data_pedido</th>\n",
       "      <th></th>\n",
       "      <th></th>\n",
       "      <th></th>\n",
       "      <th></th>\n",
       "      <th></th>\n",
       "    </tr>\n",
       "  </thead>\n",
       "  <tbody>\n",
       "    <tr>\n",
       "      <th>2016-03-31</th>\n",
       "      <td>70.18</td>\n",
       "      <td>41.73</td>\n",
       "      <td>16.80</td>\n",
       "      <td>9.31</td>\n",
       "      <td>1.51</td>\n",
       "    </tr>\n",
       "    <tr>\n",
       "      <th>2016-06-30</th>\n",
       "      <td>122.72</td>\n",
       "      <td>87.41</td>\n",
       "      <td>30.83</td>\n",
       "      <td>24.68</td>\n",
       "      <td>10.62</td>\n",
       "    </tr>\n",
       "    <tr>\n",
       "      <th>2016-09-30</th>\n",
       "      <td>226.43</td>\n",
       "      <td>158.12</td>\n",
       "      <td>39.61</td>\n",
       "      <td>21.94</td>\n",
       "      <td>11.97</td>\n",
       "    </tr>\n",
       "    <tr>\n",
       "      <th>2016-12-31</th>\n",
       "      <td>320.27</td>\n",
       "      <td>91.27</td>\n",
       "      <td>34.41</td>\n",
       "      <td>45.65</td>\n",
       "      <td>37.19</td>\n",
       "    </tr>\n",
       "    <tr>\n",
       "      <th>2017-03-31</th>\n",
       "      <td>127.89</td>\n",
       "      <td>61.58</td>\n",
       "      <td>5.90</td>\n",
       "      <td>35.25</td>\n",
       "      <td>4.75</td>\n",
       "    </tr>\n",
       "    <tr>\n",
       "      <th>2017-06-30</th>\n",
       "      <td>161.54</td>\n",
       "      <td>54.93</td>\n",
       "      <td>16.96</td>\n",
       "      <td>13.35</td>\n",
       "      <td>21.23</td>\n",
       "    </tr>\n",
       "    <tr>\n",
       "      <th>2017-09-30</th>\n",
       "      <td>206.29</td>\n",
       "      <td>91.60</td>\n",
       "      <td>48.82</td>\n",
       "      <td>48.71</td>\n",
       "      <td>21.68</td>\n",
       "    </tr>\n",
       "    <tr>\n",
       "      <th>2017-12-31</th>\n",
       "      <td>307.28</td>\n",
       "      <td>112.69</td>\n",
       "      <td>77.54</td>\n",
       "      <td>26.86</td>\n",
       "      <td>44.34</td>\n",
       "    </tr>\n",
       "    <tr>\n",
       "      <th>2018-03-31</th>\n",
       "      <td>120.56</td>\n",
       "      <td>92.40</td>\n",
       "      <td>29.30</td>\n",
       "      <td>39.03</td>\n",
       "      <td>6.95</td>\n",
       "    </tr>\n",
       "    <tr>\n",
       "      <th>2018-06-30</th>\n",
       "      <td>180.87</td>\n",
       "      <td>93.71</td>\n",
       "      <td>77.91</td>\n",
       "      <td>31.35</td>\n",
       "      <td>46.78</td>\n",
       "    </tr>\n",
       "    <tr>\n",
       "      <th>2018-09-30</th>\n",
       "      <td>252.41</td>\n",
       "      <td>93.14</td>\n",
       "      <td>51.03</td>\n",
       "      <td>16.16</td>\n",
       "      <td>26.43</td>\n",
       "    </tr>\n",
       "    <tr>\n",
       "      <th>2018-12-31</th>\n",
       "      <td>480.00</td>\n",
       "      <td>122.12</td>\n",
       "      <td>49.83</td>\n",
       "      <td>22.17</td>\n",
       "      <td>52.02</td>\n",
       "    </tr>\n",
       "    <tr>\n",
       "      <th>2019-03-31</th>\n",
       "      <td>170.82</td>\n",
       "      <td>121.06</td>\n",
       "      <td>40.37</td>\n",
       "      <td>25.11</td>\n",
       "      <td>26.18</td>\n",
       "    </tr>\n",
       "    <tr>\n",
       "      <th>2019-06-30</th>\n",
       "      <td>178.62</td>\n",
       "      <td>101.92</td>\n",
       "      <td>30.02</td>\n",
       "      <td>57.40</td>\n",
       "      <td>34.39</td>\n",
       "    </tr>\n",
       "    <tr>\n",
       "      <th>2019-09-30</th>\n",
       "      <td>305.00</td>\n",
       "      <td>159.66</td>\n",
       "      <td>87.09</td>\n",
       "      <td>51.54</td>\n",
       "      <td>37.99</td>\n",
       "    </tr>\n",
       "    <tr>\n",
       "      <th>2019-12-31</th>\n",
       "      <td>492.32</td>\n",
       "      <td>218.10</td>\n",
       "      <td>100.30</td>\n",
       "      <td>36.26</td>\n",
       "      <td>30.85</td>\n",
       "    </tr>\n",
       "  </tbody>\n",
       "</table>\n",
       "</div>"
      ],
      "text/plain": [
       "regiao       Sudeste  Nordeste  Centro-Oeste  Norte    Sul\n",
       "data_pedido                                               \n",
       "2016-03-31     70.18     41.73         16.80   9.31   1.51\n",
       "2016-06-30    122.72     87.41         30.83  24.68  10.62\n",
       "2016-09-30    226.43    158.12         39.61  21.94  11.97\n",
       "2016-12-31    320.27     91.27         34.41  45.65  37.19\n",
       "2017-03-31    127.89     61.58          5.90  35.25   4.75\n",
       "2017-06-30    161.54     54.93         16.96  13.35  21.23\n",
       "2017-09-30    206.29     91.60         48.82  48.71  21.68\n",
       "2017-12-31    307.28    112.69         77.54  26.86  44.34\n",
       "2018-03-31    120.56     92.40         29.30  39.03   6.95\n",
       "2018-06-30    180.87     93.71         77.91  31.35  46.78\n",
       "2018-09-30    252.41     93.14         51.03  16.16  26.43\n",
       "2018-12-31    480.00    122.12         49.83  22.17  52.02\n",
       "2019-03-31    170.82    121.06         40.37  25.11  26.18\n",
       "2019-06-30    178.62    101.92         30.02  57.40  34.39\n",
       "2019-09-30    305.00    159.66         87.09  51.54  37.99\n",
       "2019-12-31    492.32    218.10        100.30  36.26  30.85"
      ]
     },
     "execution_count": 31,
     "metadata": {},
     "output_type": "execute_result"
    }
   ],
   "source": [
    "df_regiao = df_regiao.resample('Q').agg('sum')\n",
    "df_regiao = round(df_regiao/1e3, 2)\n",
    "df_regiao"
   ]
  },
  {
   "cell_type": "markdown",
   "id": "9852dcce-32bd-42d1-b3c2-2a0956a38004",
   "metadata": {},
   "source": [
    "### Gerando o gráfico\r\n"
   ]
  },
  {
   "cell_type": "code",
   "execution_count": 35,
   "id": "24968254-dfbc-48f0-8eae-a7d8a4567dc2",
   "metadata": {},
   "outputs": [
    {
     "data": {
      "application/vnd.plotly.v1+json": {
       "config": {
        "plotlyServerURL": "https://plot.ly"
       },
       "data": [
        {
         "hovertemplate": "Região=Sudeste<br>data_pedido=%{x}<br>value=%{y}<extra></extra>",
         "legendgroup": "Sudeste",
         "line": {
          "color": "#0077b6",
          "dash": "solid"
         },
         "marker": {
          "symbol": "circle"
         },
         "mode": "markers+lines",
         "name": "Sudeste",
         "orientation": "v",
         "showlegend": true,
         "type": "scatter",
         "x": [
          "2016-03-31T00:00:00",
          "2016-06-30T00:00:00",
          "2016-09-30T00:00:00",
          "2016-12-31T00:00:00",
          "2017-03-31T00:00:00",
          "2017-06-30T00:00:00",
          "2017-09-30T00:00:00",
          "2017-12-31T00:00:00",
          "2018-03-31T00:00:00",
          "2018-06-30T00:00:00",
          "2018-09-30T00:00:00",
          "2018-12-31T00:00:00",
          "2019-03-31T00:00:00",
          "2019-06-30T00:00:00",
          "2019-09-30T00:00:00",
          "2019-12-31T00:00:00"
         ],
         "xaxis": "x",
         "y": [
          70.18,
          122.72,
          226.43,
          320.27,
          127.89,
          161.54,
          206.29,
          307.28,
          120.56,
          180.87,
          252.41,
          480,
          170.82,
          178.62,
          305,
          492.32
         ],
         "yaxis": "y"
        },
        {
         "hovertemplate": "Região=Nordeste<br>data_pedido=%{x}<br>value=%{y}<extra></extra>",
         "legendgroup": "Nordeste",
         "line": {
          "color": "#e76f51",
          "dash": "solid"
         },
         "marker": {
          "symbol": "circle"
         },
         "mode": "markers+lines",
         "name": "Nordeste",
         "orientation": "v",
         "showlegend": true,
         "type": "scatter",
         "x": [
          "2016-03-31T00:00:00",
          "2016-06-30T00:00:00",
          "2016-09-30T00:00:00",
          "2016-12-31T00:00:00",
          "2017-03-31T00:00:00",
          "2017-06-30T00:00:00",
          "2017-09-30T00:00:00",
          "2017-12-31T00:00:00",
          "2018-03-31T00:00:00",
          "2018-06-30T00:00:00",
          "2018-09-30T00:00:00",
          "2018-12-31T00:00:00",
          "2019-03-31T00:00:00",
          "2019-06-30T00:00:00",
          "2019-09-30T00:00:00",
          "2019-12-31T00:00:00"
         ],
         "xaxis": "x",
         "y": [
          41.73,
          87.41,
          158.12,
          91.27,
          61.58,
          54.93,
          91.6,
          112.69,
          92.4,
          93.71,
          93.14,
          122.12,
          121.06,
          101.92,
          159.66,
          218.1
         ],
         "yaxis": "y"
        },
        {
         "hovertemplate": "Região=Centro-Oeste<br>data_pedido=%{x}<br>value=%{y}<extra></extra>",
         "legendgroup": "Centro-Oeste",
         "line": {
          "color": "#e9c46a",
          "dash": "solid"
         },
         "marker": {
          "symbol": "circle"
         },
         "mode": "markers+lines",
         "name": "Centro-Oeste",
         "orientation": "v",
         "showlegend": true,
         "type": "scatter",
         "x": [
          "2016-03-31T00:00:00",
          "2016-06-30T00:00:00",
          "2016-09-30T00:00:00",
          "2016-12-31T00:00:00",
          "2017-03-31T00:00:00",
          "2017-06-30T00:00:00",
          "2017-09-30T00:00:00",
          "2017-12-31T00:00:00",
          "2018-03-31T00:00:00",
          "2018-06-30T00:00:00",
          "2018-09-30T00:00:00",
          "2018-12-31T00:00:00",
          "2019-03-31T00:00:00",
          "2019-06-30T00:00:00",
          "2019-09-30T00:00:00",
          "2019-12-31T00:00:00"
         ],
         "xaxis": "x",
         "y": [
          16.8,
          30.83,
          39.61,
          34.41,
          5.9,
          16.96,
          48.82,
          77.54,
          29.3,
          77.91,
          51.03,
          49.83,
          40.37,
          30.02,
          87.09,
          100.3
         ],
         "yaxis": "y"
        },
        {
         "hovertemplate": "Região=Norte<br>data_pedido=%{x}<br>value=%{y}<extra></extra>",
         "legendgroup": "Norte",
         "line": {
          "color": "#4c956c",
          "dash": "solid"
         },
         "marker": {
          "symbol": "circle"
         },
         "mode": "markers+lines",
         "name": "Norte",
         "orientation": "v",
         "showlegend": true,
         "type": "scatter",
         "x": [
          "2016-03-31T00:00:00",
          "2016-06-30T00:00:00",
          "2016-09-30T00:00:00",
          "2016-12-31T00:00:00",
          "2017-03-31T00:00:00",
          "2017-06-30T00:00:00",
          "2017-09-30T00:00:00",
          "2017-12-31T00:00:00",
          "2018-03-31T00:00:00",
          "2018-06-30T00:00:00",
          "2018-09-30T00:00:00",
          "2018-12-31T00:00:00",
          "2019-03-31T00:00:00",
          "2019-06-30T00:00:00",
          "2019-09-30T00:00:00",
          "2019-12-31T00:00:00"
         ],
         "xaxis": "x",
         "y": [
          9.31,
          24.68,
          21.94,
          45.65,
          35.25,
          13.35,
          48.71,
          26.86,
          39.03,
          31.35,
          16.16,
          22.17,
          25.11,
          57.4,
          51.54,
          36.26
         ],
         "yaxis": "y"
        },
        {
         "hovertemplate": "Região=Sul<br>data_pedido=%{x}<br>value=%{y}<extra></extra>",
         "legendgroup": "Sul",
         "line": {
          "color": "#adb5bd",
          "dash": "solid"
         },
         "marker": {
          "symbol": "circle"
         },
         "mode": "markers+lines",
         "name": "Sul",
         "orientation": "v",
         "showlegend": true,
         "type": "scatter",
         "x": [
          "2016-03-31T00:00:00",
          "2016-06-30T00:00:00",
          "2016-09-30T00:00:00",
          "2016-12-31T00:00:00",
          "2017-03-31T00:00:00",
          "2017-06-30T00:00:00",
          "2017-09-30T00:00:00",
          "2017-12-31T00:00:00",
          "2018-03-31T00:00:00",
          "2018-06-30T00:00:00",
          "2018-09-30T00:00:00",
          "2018-12-31T00:00:00",
          "2019-03-31T00:00:00",
          "2019-06-30T00:00:00",
          "2019-09-30T00:00:00",
          "2019-12-31T00:00:00"
         ],
         "xaxis": "x",
         "y": [
          1.51,
          10.62,
          11.97,
          37.19,
          4.75,
          21.23,
          21.68,
          44.34,
          6.95,
          46.78,
          26.43,
          52.02,
          26.18,
          34.39,
          37.99,
          30.85
         ],
         "yaxis": "y"
        }
       ],
       "layout": {
        "font": {
         "color": "#495057",
         "family": "DejaVu Sans",
         "size": 15
        },
        "height": 600,
        "legend": {
         "title": {
          "text": "Região"
         },
         "tracegroupgap": 0
        },
        "margin": {
         "t": 60
        },
        "plot_bgcolor": "#f8f9fa",
        "template": {
         "data": {
          "bar": [
           {
            "error_x": {
             "color": "#2a3f5f"
            },
            "error_y": {
             "color": "#2a3f5f"
            },
            "marker": {
             "line": {
              "color": "#E5ECF6",
              "width": 0.5
             },
             "pattern": {
              "fillmode": "overlay",
              "size": 10,
              "solidity": 0.2
             }
            },
            "type": "bar"
           }
          ],
          "barpolar": [
           {
            "marker": {
             "line": {
              "color": "#E5ECF6",
              "width": 0.5
             },
             "pattern": {
              "fillmode": "overlay",
              "size": 10,
              "solidity": 0.2
             }
            },
            "type": "barpolar"
           }
          ],
          "carpet": [
           {
            "aaxis": {
             "endlinecolor": "#2a3f5f",
             "gridcolor": "white",
             "linecolor": "white",
             "minorgridcolor": "white",
             "startlinecolor": "#2a3f5f"
            },
            "baxis": {
             "endlinecolor": "#2a3f5f",
             "gridcolor": "white",
             "linecolor": "white",
             "minorgridcolor": "white",
             "startlinecolor": "#2a3f5f"
            },
            "type": "carpet"
           }
          ],
          "choropleth": [
           {
            "colorbar": {
             "outlinewidth": 0,
             "ticks": ""
            },
            "type": "choropleth"
           }
          ],
          "contour": [
           {
            "colorbar": {
             "outlinewidth": 0,
             "ticks": ""
            },
            "colorscale": [
             [
              0,
              "#0d0887"
             ],
             [
              0.1111111111111111,
              "#46039f"
             ],
             [
              0.2222222222222222,
              "#7201a8"
             ],
             [
              0.3333333333333333,
              "#9c179e"
             ],
             [
              0.4444444444444444,
              "#bd3786"
             ],
             [
              0.5555555555555556,
              "#d8576b"
             ],
             [
              0.6666666666666666,
              "#ed7953"
             ],
             [
              0.7777777777777778,
              "#fb9f3a"
             ],
             [
              0.8888888888888888,
              "#fdca26"
             ],
             [
              1,
              "#f0f921"
             ]
            ],
            "type": "contour"
           }
          ],
          "contourcarpet": [
           {
            "colorbar": {
             "outlinewidth": 0,
             "ticks": ""
            },
            "type": "contourcarpet"
           }
          ],
          "heatmap": [
           {
            "colorbar": {
             "outlinewidth": 0,
             "ticks": ""
            },
            "colorscale": [
             [
              0,
              "#0d0887"
             ],
             [
              0.1111111111111111,
              "#46039f"
             ],
             [
              0.2222222222222222,
              "#7201a8"
             ],
             [
              0.3333333333333333,
              "#9c179e"
             ],
             [
              0.4444444444444444,
              "#bd3786"
             ],
             [
              0.5555555555555556,
              "#d8576b"
             ],
             [
              0.6666666666666666,
              "#ed7953"
             ],
             [
              0.7777777777777778,
              "#fb9f3a"
             ],
             [
              0.8888888888888888,
              "#fdca26"
             ],
             [
              1,
              "#f0f921"
             ]
            ],
            "type": "heatmap"
           }
          ],
          "heatmapgl": [
           {
            "colorbar": {
             "outlinewidth": 0,
             "ticks": ""
            },
            "colorscale": [
             [
              0,
              "#0d0887"
             ],
             [
              0.1111111111111111,
              "#46039f"
             ],
             [
              0.2222222222222222,
              "#7201a8"
             ],
             [
              0.3333333333333333,
              "#9c179e"
             ],
             [
              0.4444444444444444,
              "#bd3786"
             ],
             [
              0.5555555555555556,
              "#d8576b"
             ],
             [
              0.6666666666666666,
              "#ed7953"
             ],
             [
              0.7777777777777778,
              "#fb9f3a"
             ],
             [
              0.8888888888888888,
              "#fdca26"
             ],
             [
              1,
              "#f0f921"
             ]
            ],
            "type": "heatmapgl"
           }
          ],
          "histogram": [
           {
            "marker": {
             "pattern": {
              "fillmode": "overlay",
              "size": 10,
              "solidity": 0.2
             }
            },
            "type": "histogram"
           }
          ],
          "histogram2d": [
           {
            "colorbar": {
             "outlinewidth": 0,
             "ticks": ""
            },
            "colorscale": [
             [
              0,
              "#0d0887"
             ],
             [
              0.1111111111111111,
              "#46039f"
             ],
             [
              0.2222222222222222,
              "#7201a8"
             ],
             [
              0.3333333333333333,
              "#9c179e"
             ],
             [
              0.4444444444444444,
              "#bd3786"
             ],
             [
              0.5555555555555556,
              "#d8576b"
             ],
             [
              0.6666666666666666,
              "#ed7953"
             ],
             [
              0.7777777777777778,
              "#fb9f3a"
             ],
             [
              0.8888888888888888,
              "#fdca26"
             ],
             [
              1,
              "#f0f921"
             ]
            ],
            "type": "histogram2d"
           }
          ],
          "histogram2dcontour": [
           {
            "colorbar": {
             "outlinewidth": 0,
             "ticks": ""
            },
            "colorscale": [
             [
              0,
              "#0d0887"
             ],
             [
              0.1111111111111111,
              "#46039f"
             ],
             [
              0.2222222222222222,
              "#7201a8"
             ],
             [
              0.3333333333333333,
              "#9c179e"
             ],
             [
              0.4444444444444444,
              "#bd3786"
             ],
             [
              0.5555555555555556,
              "#d8576b"
             ],
             [
              0.6666666666666666,
              "#ed7953"
             ],
             [
              0.7777777777777778,
              "#fb9f3a"
             ],
             [
              0.8888888888888888,
              "#fdca26"
             ],
             [
              1,
              "#f0f921"
             ]
            ],
            "type": "histogram2dcontour"
           }
          ],
          "mesh3d": [
           {
            "colorbar": {
             "outlinewidth": 0,
             "ticks": ""
            },
            "type": "mesh3d"
           }
          ],
          "parcoords": [
           {
            "line": {
             "colorbar": {
              "outlinewidth": 0,
              "ticks": ""
             }
            },
            "type": "parcoords"
           }
          ],
          "pie": [
           {
            "automargin": true,
            "type": "pie"
           }
          ],
          "scatter": [
           {
            "fillpattern": {
             "fillmode": "overlay",
             "size": 10,
             "solidity": 0.2
            },
            "type": "scatter"
           }
          ],
          "scatter3d": [
           {
            "line": {
             "colorbar": {
              "outlinewidth": 0,
              "ticks": ""
             }
            },
            "marker": {
             "colorbar": {
              "outlinewidth": 0,
              "ticks": ""
             }
            },
            "type": "scatter3d"
           }
          ],
          "scattercarpet": [
           {
            "marker": {
             "colorbar": {
              "outlinewidth": 0,
              "ticks": ""
             }
            },
            "type": "scattercarpet"
           }
          ],
          "scattergeo": [
           {
            "marker": {
             "colorbar": {
              "outlinewidth": 0,
              "ticks": ""
             }
            },
            "type": "scattergeo"
           }
          ],
          "scattergl": [
           {
            "marker": {
             "colorbar": {
              "outlinewidth": 0,
              "ticks": ""
             }
            },
            "type": "scattergl"
           }
          ],
          "scattermapbox": [
           {
            "marker": {
             "colorbar": {
              "outlinewidth": 0,
              "ticks": ""
             }
            },
            "type": "scattermapbox"
           }
          ],
          "scatterpolar": [
           {
            "marker": {
             "colorbar": {
              "outlinewidth": 0,
              "ticks": ""
             }
            },
            "type": "scatterpolar"
           }
          ],
          "scatterpolargl": [
           {
            "marker": {
             "colorbar": {
              "outlinewidth": 0,
              "ticks": ""
             }
            },
            "type": "scatterpolargl"
           }
          ],
          "scatterternary": [
           {
            "marker": {
             "colorbar": {
              "outlinewidth": 0,
              "ticks": ""
             }
            },
            "type": "scatterternary"
           }
          ],
          "surface": [
           {
            "colorbar": {
             "outlinewidth": 0,
             "ticks": ""
            },
            "colorscale": [
             [
              0,
              "#0d0887"
             ],
             [
              0.1111111111111111,
              "#46039f"
             ],
             [
              0.2222222222222222,
              "#7201a8"
             ],
             [
              0.3333333333333333,
              "#9c179e"
             ],
             [
              0.4444444444444444,
              "#bd3786"
             ],
             [
              0.5555555555555556,
              "#d8576b"
             ],
             [
              0.6666666666666666,
              "#ed7953"
             ],
             [
              0.7777777777777778,
              "#fb9f3a"
             ],
             [
              0.8888888888888888,
              "#fdca26"
             ],
             [
              1,
              "#f0f921"
             ]
            ],
            "type": "surface"
           }
          ],
          "table": [
           {
            "cells": {
             "fill": {
              "color": "#EBF0F8"
             },
             "line": {
              "color": "white"
             }
            },
            "header": {
             "fill": {
              "color": "#C8D4E3"
             },
             "line": {
              "color": "white"
             }
            },
            "type": "table"
           }
          ]
         },
         "layout": {
          "annotationdefaults": {
           "arrowcolor": "#2a3f5f",
           "arrowhead": 0,
           "arrowwidth": 1
          },
          "autotypenumbers": "strict",
          "coloraxis": {
           "colorbar": {
            "outlinewidth": 0,
            "ticks": ""
           }
          },
          "colorscale": {
           "diverging": [
            [
             0,
             "#8e0152"
            ],
            [
             0.1,
             "#c51b7d"
            ],
            [
             0.2,
             "#de77ae"
            ],
            [
             0.3,
             "#f1b6da"
            ],
            [
             0.4,
             "#fde0ef"
            ],
            [
             0.5,
             "#f7f7f7"
            ],
            [
             0.6,
             "#e6f5d0"
            ],
            [
             0.7,
             "#b8e186"
            ],
            [
             0.8,
             "#7fbc41"
            ],
            [
             0.9,
             "#4d9221"
            ],
            [
             1,
             "#276419"
            ]
           ],
           "sequential": [
            [
             0,
             "#0d0887"
            ],
            [
             0.1111111111111111,
             "#46039f"
            ],
            [
             0.2222222222222222,
             "#7201a8"
            ],
            [
             0.3333333333333333,
             "#9c179e"
            ],
            [
             0.4444444444444444,
             "#bd3786"
            ],
            [
             0.5555555555555556,
             "#d8576b"
            ],
            [
             0.6666666666666666,
             "#ed7953"
            ],
            [
             0.7777777777777778,
             "#fb9f3a"
            ],
            [
             0.8888888888888888,
             "#fdca26"
            ],
            [
             1,
             "#f0f921"
            ]
           ],
           "sequentialminus": [
            [
             0,
             "#0d0887"
            ],
            [
             0.1111111111111111,
             "#46039f"
            ],
            [
             0.2222222222222222,
             "#7201a8"
            ],
            [
             0.3333333333333333,
             "#9c179e"
            ],
            [
             0.4444444444444444,
             "#bd3786"
            ],
            [
             0.5555555555555556,
             "#d8576b"
            ],
            [
             0.6666666666666666,
             "#ed7953"
            ],
            [
             0.7777777777777778,
             "#fb9f3a"
            ],
            [
             0.8888888888888888,
             "#fdca26"
            ],
            [
             1,
             "#f0f921"
            ]
           ]
          },
          "colorway": [
           "#636efa",
           "#EF553B",
           "#00cc96",
           "#ab63fa",
           "#FFA15A",
           "#19d3f3",
           "#FF6692",
           "#B6E880",
           "#FF97FF",
           "#FECB52"
          ],
          "font": {
           "color": "#2a3f5f"
          },
          "geo": {
           "bgcolor": "white",
           "lakecolor": "white",
           "landcolor": "#E5ECF6",
           "showlakes": true,
           "showland": true,
           "subunitcolor": "white"
          },
          "hoverlabel": {
           "align": "left"
          },
          "hovermode": "closest",
          "mapbox": {
           "style": "light"
          },
          "paper_bgcolor": "white",
          "plot_bgcolor": "#E5ECF6",
          "polar": {
           "angularaxis": {
            "gridcolor": "white",
            "linecolor": "white",
            "ticks": ""
           },
           "bgcolor": "#E5ECF6",
           "radialaxis": {
            "gridcolor": "white",
            "linecolor": "white",
            "ticks": ""
           }
          },
          "scene": {
           "xaxis": {
            "backgroundcolor": "#E5ECF6",
            "gridcolor": "white",
            "gridwidth": 2,
            "linecolor": "white",
            "showbackground": true,
            "ticks": "",
            "zerolinecolor": "white"
           },
           "yaxis": {
            "backgroundcolor": "#E5ECF6",
            "gridcolor": "white",
            "gridwidth": 2,
            "linecolor": "white",
            "showbackground": true,
            "ticks": "",
            "zerolinecolor": "white"
           },
           "zaxis": {
            "backgroundcolor": "#E5ECF6",
            "gridcolor": "white",
            "gridwidth": 2,
            "linecolor": "white",
            "showbackground": true,
            "ticks": "",
            "zerolinecolor": "white"
           }
          },
          "shapedefaults": {
           "line": {
            "color": "#2a3f5f"
           }
          },
          "ternary": {
           "aaxis": {
            "gridcolor": "white",
            "linecolor": "white",
            "ticks": ""
           },
           "baxis": {
            "gridcolor": "white",
            "linecolor": "white",
            "ticks": ""
           },
           "bgcolor": "#E5ECF6",
           "caxis": {
            "gridcolor": "white",
            "linecolor": "white",
            "ticks": ""
           }
          },
          "title": {
           "x": 0.05
          },
          "xaxis": {
           "automargin": true,
           "gridcolor": "white",
           "linecolor": "white",
           "ticks": "",
           "title": {
            "standoff": 15
           },
           "zerolinecolor": "white",
           "zerolinewidth": 2
          },
          "yaxis": {
           "automargin": true,
           "gridcolor": "white",
           "linecolor": "white",
           "ticks": "",
           "title": {
            "standoff": 15
           },
           "zerolinecolor": "white",
           "zerolinewidth": 2
          }
         }
        },
        "title": {
         "font": {
          "color": "#212529",
          "size": 24
         },
         "text": "Faturamento da loja de departamentos por trimestre<br><sup size=1 style=\"color:#555655\">De 2016 a 2019</sup>"
        },
        "width": 1300,
        "xaxis": {
         "anchor": "y",
         "autorange": true,
         "domain": [
          0,
          1
         ],
         "range": [
          "2016-01-08 16:37:49.4888",
          "2020-03-22 07:22:10.5112"
         ],
         "ticktext": [
          "T1<br>2016",
          "T2<br>2016",
          "T3<br>2016",
          "T4<br>2016",
          "T1<br>2017",
          "T2<br>2017",
          "T3<br>2017",
          "T4<br>2017",
          "T1<br>2018",
          "T2<br>2018",
          "T3<br>2018",
          "T4<br>2018",
          "T1<br>2019",
          "T2<br>2019",
          "T3<br>2019",
          "T4<br>2019"
         ],
         "tickvals": [
          "2016-03-31T00:00:00",
          "2016-06-30T00:00:00",
          "2016-09-30T00:00:00",
          "2016-12-31T00:00:00",
          "2017-03-31T00:00:00",
          "2017-06-30T00:00:00",
          "2017-09-30T00:00:00",
          "2017-12-31T00:00:00",
          "2018-03-31T00:00:00",
          "2018-06-30T00:00:00",
          "2018-09-30T00:00:00",
          "2018-12-31T00:00:00",
          "2019-03-31T00:00:00",
          "2019-06-30T00:00:00",
          "2019-09-30T00:00:00",
          "2019-12-31T00:00:00"
         ],
         "title": {
          "text": ""
         },
         "type": "date"
        },
        "yaxis": {
         "anchor": "x",
         "autorange": true,
         "domain": [
          0,
          1
         ],
         "range": [
          -30.78807503075031,
          524.6180750307503
         ],
         "tickprefix": "R$ ",
         "ticksuffix": " mil",
         "title": {
          "text": ""
         },
         "type": "linear"
        }
       }
      },
      "image/png": "[encoded data removed]",
      "text/html": [
       "<div>                            <div id=\"46475302-c64f-4e56-9108-0ffeea59f4ad\" class=\"plotly-graph-div\" style=\"height:600px; width:1300px;\"></div>            <script type=\"text/javascript\">                require([\"plotly\"], function(Plotly) {                    window.PLOTLYENV=window.PLOTLYENV || {};                                    if (document.getElementById(\"46475302-c64f-4e56-9108-0ffeea59f4ad\")) {                    Plotly.newPlot(                        \"46475302-c64f-4e56-9108-0ffeea59f4ad\",                        [{\"hovertemplate\":\"Regi\\u00e3o=Sudeste\\u003cbr\\u003edata_pedido=%{x}\\u003cbr\\u003evalue=%{y}\\u003cextra\\u003e\\u003c\\u002fextra\\u003e\",\"legendgroup\":\"Sudeste\",\"line\":{\"color\":\"#0077b6\",\"dash\":\"solid\"},\"marker\":{\"symbol\":\"circle\"},\"mode\":\"markers+lines\",\"name\":\"Sudeste\",\"orientation\":\"v\",\"showlegend\":true,\"x\":[\"2016-03-31T00:00:00\",\"2016-06-30T00:00:00\",\"2016-09-30T00:00:00\",\"2016-12-31T00:00:00\",\"2017-03-31T00:00:00\",\"2017-06-30T00:00:00\",\"2017-09-30T00:00:00\",\"2017-12-31T00:00:00\",\"2018-03-31T00:00:00\",\"2018-06-30T00:00:00\",\"2018-09-30T00:00:00\",\"2018-12-31T00:00:00\",\"2019-03-31T00:00:00\",\"2019-06-30T00:00:00\",\"2019-09-30T00:00:00\",\"2019-12-31T00:00:00\"],\"xaxis\":\"x\",\"y\":[70.18,122.72,226.43,320.27,127.89,161.54,206.29,307.28,120.56,180.87,252.41,480.0,170.82,178.62,305.0,492.32],\"yaxis\":\"y\",\"type\":\"scatter\"},{\"hovertemplate\":\"Regi\\u00e3o=Nordeste\\u003cbr\\u003edata_pedido=%{x}\\u003cbr\\u003evalue=%{y}\\u003cextra\\u003e\\u003c\\u002fextra\\u003e\",\"legendgroup\":\"Nordeste\",\"line\":{\"color\":\"#e76f51\",\"dash\":\"solid\"},\"marker\":{\"symbol\":\"circle\"},\"mode\":\"markers+lines\",\"name\":\"Nordeste\",\"orientation\":\"v\",\"showlegend\":true,\"x\":[\"2016-03-31T00:00:00\",\"2016-06-30T00:00:00\",\"2016-09-30T00:00:00\",\"2016-12-31T00:00:00\",\"2017-03-31T00:00:00\",\"2017-06-30T00:00:00\",\"2017-09-30T00:00:00\",\"2017-12-31T00:00:00\",\"2018-03-31T00:00:00\",\"2018-06-30T00:00:00\",\"2018-09-30T00:00:00\",\"2018-12-31T00:00:00\",\"2019-03-31T00:00:00\",\"2019-06-30T00:00:00\",\"2019-09-30T00:00:00\",\"2019-12-31T00:00:00\"],\"xaxis\":\"x\",\"y\":[41.73,87.41,158.12,91.27,61.58,54.93,91.6,112.69,92.4,93.71,93.14,122.12,121.06,101.92,159.66,218.1],\"yaxis\":\"y\",\"type\":\"scatter\"},{\"hovertemplate\":\"Regi\\u00e3o=Centro-Oeste\\u003cbr\\u003edata_pedido=%{x}\\u003cbr\\u003evalue=%{y}\\u003cextra\\u003e\\u003c\\u002fextra\\u003e\",\"legendgroup\":\"Centro-Oeste\",\"line\":{\"color\":\"#e9c46a\",\"dash\":\"solid\"},\"marker\":{\"symbol\":\"circle\"},\"mode\":\"markers+lines\",\"name\":\"Centro-Oeste\",\"orientation\":\"v\",\"showlegend\":true,\"x\":[\"2016-03-31T00:00:00\",\"2016-06-30T00:00:00\",\"2016-09-30T00:00:00\",\"2016-12-31T00:00:00\",\"2017-03-31T00:00:00\",\"2017-06-30T00:00:00\",\"2017-09-30T00:00:00\",\"2017-12-31T00:00:00\",\"2018-03-31T00:00:00\",\"2018-06-30T00:00:00\",\"2018-09-30T00:00:00\",\"2018-12-31T00:00:00\",\"2019-03-31T00:00:00\",\"2019-06-30T00:00:00\",\"2019-09-30T00:00:00\",\"2019-12-31T00:00:00\"],\"xaxis\":\"x\",\"y\":[16.8,30.83,39.61,34.41,5.9,16.96,48.82,77.54,29.3,77.91,51.03,49.83,40.37,30.02,87.09,100.3],\"yaxis\":\"y\",\"type\":\"scatter\"},{\"hovertemplate\":\"Regi\\u00e3o=Norte\\u003cbr\\u003edata_pedido=%{x}\\u003cbr\\u003evalue=%{y}\\u003cextra\\u003e\\u003c\\u002fextra\\u003e\",\"legendgroup\":\"Norte\",\"line\":{\"color\":\"#4c956c\",\"dash\":\"solid\"},\"marker\":{\"symbol\":\"circle\"},\"mode\":\"markers+lines\",\"name\":\"Norte\",\"orientation\":\"v\",\"showlegend\":true,\"x\":[\"2016-03-31T00:00:00\",\"2016-06-30T00:00:00\",\"2016-09-30T00:00:00\",\"2016-12-31T00:00:00\",\"2017-03-31T00:00:00\",\"2017-06-30T00:00:00\",\"2017-09-30T00:00:00\",\"2017-12-31T00:00:00\",\"2018-03-31T00:00:00\",\"2018-06-30T00:00:00\",\"2018-09-30T00:00:00\",\"2018-12-31T00:00:00\",\"2019-03-31T00:00:00\",\"2019-06-30T00:00:00\",\"2019-09-30T00:00:00\",\"2019-12-31T00:00:00\"],\"xaxis\":\"x\",\"y\":[9.31,24.68,21.94,45.65,35.25,13.35,48.71,26.86,39.03,31.35,16.16,22.17,25.11,57.4,51.54,36.26],\"yaxis\":\"y\",\"type\":\"scatter\"},{\"hovertemplate\":\"Regi\\u00e3o=Sul\\u003cbr\\u003edata_pedido=%{x}\\u003cbr\\u003evalue=%{y}\\u003cextra\\u003e\\u003c\\u002fextra\\u003e\",\"legendgroup\":\"Sul\",\"line\":{\"color\":\"#adb5bd\",\"dash\":\"solid\"},\"marker\":{\"symbol\":\"circle\"},\"mode\":\"markers+lines\",\"name\":\"Sul\",\"orientation\":\"v\",\"showlegend\":true,\"x\":[\"2016-03-31T00:00:00\",\"2016-06-30T00:00:00\",\"2016-09-30T00:00:00\",\"2016-12-31T00:00:00\",\"2017-03-31T00:00:00\",\"2017-06-30T00:00:00\",\"2017-09-30T00:00:00\",\"2017-12-31T00:00:00\",\"2018-03-31T00:00:00\",\"2018-06-30T00:00:00\",\"2018-09-30T00:00:00\",\"2018-12-31T00:00:00\",\"2019-03-31T00:00:00\",\"2019-06-30T00:00:00\",\"2019-09-30T00:00:00\",\"2019-12-31T00:00:00\"],\"xaxis\":\"x\",\"y\":[1.51,10.62,11.97,37.19,4.75,21.23,21.68,44.34,6.95,46.78,26.43,52.02,26.18,34.39,37.99,30.85],\"yaxis\":\"y\",\"type\":\"scatter\"}],                        {\"template\":{\"data\":{\"histogram2dcontour\":[{\"type\":\"histogram2dcontour\",\"colorbar\":{\"outlinewidth\":0,\"ticks\":\"\"},\"colorscale\":[[0.0,\"#0d0887\"],[0.1111111111111111,\"#46039f\"],[0.2222222222222222,\"#7201a8\"],[0.3333333333333333,\"#9c179e\"],[0.4444444444444444,\"#bd3786\"],[0.5555555555555556,\"#d8576b\"],[0.6666666666666666,\"#ed7953\"],[0.7777777777777778,\"#fb9f3a\"],[0.8888888888888888,\"#fdca26\"],[1.0,\"#f0f921\"]]}],\"choropleth\":[{\"type\":\"choropleth\",\"colorbar\":{\"outlinewidth\":0,\"ticks\":\"\"}}],\"histogram2d\":[{\"type\":\"histogram2d\",\"colorbar\":{\"outlinewidth\":0,\"ticks\":\"\"},\"colorscale\":[[0.0,\"#0d0887\"],[0.1111111111111111,\"#46039f\"],[0.2222222222222222,\"#7201a8\"],[0.3333333333333333,\"#9c179e\"],[0.4444444444444444,\"#bd3786\"],[0.5555555555555556,\"#d8576b\"],[0.6666666666666666,\"#ed7953\"],[0.7777777777777778,\"#fb9f3a\"],[0.8888888888888888,\"#fdca26\"],[1.0,\"#f0f921\"]]}],\"heatmap\":[{\"type\":\"heatmap\",\"colorbar\":{\"outlinewidth\":0,\"ticks\":\"\"},\"colorscale\":[[0.0,\"#0d0887\"],[0.1111111111111111,\"#46039f\"],[0.2222222222222222,\"#7201a8\"],[0.3333333333333333,\"#9c179e\"],[0.4444444444444444,\"#bd3786\"],[0.5555555555555556,\"#d8576b\"],[0.6666666666666666,\"#ed7953\"],[0.7777777777777778,\"#fb9f3a\"],[0.8888888888888888,\"#fdca26\"],[1.0,\"#f0f921\"]]}],\"heatmapgl\":[{\"type\":\"heatmapgl\",\"colorbar\":{\"outlinewidth\":0,\"ticks\":\"\"},\"colorscale\":[[0.0,\"#0d0887\"],[0.1111111111111111,\"#46039f\"],[0.2222222222222222,\"#7201a8\"],[0.3333333333333333,\"#9c179e\"],[0.4444444444444444,\"#bd3786\"],[0.5555555555555556,\"#d8576b\"],[0.6666666666666666,\"#ed7953\"],[0.7777777777777778,\"#fb9f3a\"],[0.8888888888888888,\"#fdca26\"],[1.0,\"#f0f921\"]]}],\"contourcarpet\":[{\"type\":\"contourcarpet\",\"colorbar\":{\"outlinewidth\":0,\"ticks\":\"\"}}],\"contour\":[{\"type\":\"contour\",\"colorbar\":{\"outlinewidth\":0,\"ticks\":\"\"},\"colorscale\":[[0.0,\"#0d0887\"],[0.1111111111111111,\"#46039f\"],[0.2222222222222222,\"#7201a8\"],[0.3333333333333333,\"#9c179e\"],[0.4444444444444444,\"#bd3786\"],[0.5555555555555556,\"#d8576b\"],[0.6666666666666666,\"#ed7953\"],[0.7777777777777778,\"#fb9f3a\"],[0.8888888888888888,\"#fdca26\"],[1.0,\"#f0f921\"]]}],\"surface\":[{\"type\":\"surface\",\"colorbar\":{\"outlinewidth\":0,\"ticks\":\"\"},\"colorscale\":[[0.0,\"#0d0887\"],[0.1111111111111111,\"#46039f\"],[0.2222222222222222,\"#7201a8\"],[0.3333333333333333,\"#9c179e\"],[0.4444444444444444,\"#bd3786\"],[0.5555555555555556,\"#d8576b\"],[0.6666666666666666,\"#ed7953\"],[0.7777777777777778,\"#fb9f3a\"],[0.8888888888888888,\"#fdca26\"],[1.0,\"#f0f921\"]]}],\"mesh3d\":[{\"type\":\"mesh3d\",\"colorbar\":{\"outlinewidth\":0,\"ticks\":\"\"}}],\"scatter\":[{\"fillpattern\":{\"fillmode\":\"overlay\",\"size\":10,\"solidity\":0.2},\"type\":\"scatter\"}],\"parcoords\":[{\"type\":\"parcoords\",\"line\":{\"colorbar\":{\"outlinewidth\":0,\"ticks\":\"\"}}}],\"scatterpolargl\":[{\"type\":\"scatterpolargl\",\"marker\":{\"colorbar\":{\"outlinewidth\":0,\"ticks\":\"\"}}}],\"bar\":[{\"error_x\":{\"color\":\"#2a3f5f\"},\"error_y\":{\"color\":\"#2a3f5f\"},\"marker\":{\"line\":{\"color\":\"#E5ECF6\",\"width\":0.5},\"pattern\":{\"fillmode\":\"overlay\",\"size\":10,\"solidity\":0.2}},\"type\":\"bar\"}],\"scattergeo\":[{\"type\":\"scattergeo\",\"marker\":{\"colorbar\":{\"outlinewidth\":0,\"ticks\":\"\"}}}],\"scatterpolar\":[{\"type\":\"scatterpolar\",\"marker\":{\"colorbar\":{\"outlinewidth\":0,\"ticks\":\"\"}}}],\"histogram\":[{\"marker\":{\"pattern\":{\"fillmode\":\"overlay\",\"size\":10,\"solidity\":0.2}},\"type\":\"histogram\"}],\"scattergl\":[{\"type\":\"scattergl\",\"marker\":{\"colorbar\":{\"outlinewidth\":0,\"ticks\":\"\"}}}],\"scatter3d\":[{\"type\":\"scatter3d\",\"line\":{\"colorbar\":{\"outlinewidth\":0,\"ticks\":\"\"}},\"marker\":{\"colorbar\":{\"outlinewidth\":0,\"ticks\":\"\"}}}],\"scattermapbox\":[{\"type\":\"scattermapbox\",\"marker\":{\"colorbar\":{\"outlinewidth\":0,\"ticks\":\"\"}}}],\"scatterternary\":[{\"type\":\"scatterternary\",\"marker\":{\"colorbar\":{\"outlinewidth\":0,\"ticks\":\"\"}}}],\"scattercarpet\":[{\"type\":\"scattercarpet\",\"marker\":{\"colorbar\":{\"outlinewidth\":0,\"ticks\":\"\"}}}],\"carpet\":[{\"aaxis\":{\"endlinecolor\":\"#2a3f5f\",\"gridcolor\":\"white\",\"linecolor\":\"white\",\"minorgridcolor\":\"white\",\"startlinecolor\":\"#2a3f5f\"},\"baxis\":{\"endlinecolor\":\"#2a3f5f\",\"gridcolor\":\"white\",\"linecolor\":\"white\",\"minorgridcolor\":\"white\",\"startlinecolor\":\"#2a3f5f\"},\"type\":\"carpet\"}],\"table\":[{\"cells\":{\"fill\":{\"color\":\"#EBF0F8\"},\"line\":{\"color\":\"white\"}},\"header\":{\"fill\":{\"color\":\"#C8D4E3\"},\"line\":{\"color\":\"white\"}},\"type\":\"table\"}],\"barpolar\":[{\"marker\":{\"line\":{\"color\":\"#E5ECF6\",\"width\":0.5},\"pattern\":{\"fillmode\":\"overlay\",\"size\":10,\"solidity\":0.2}},\"type\":\"barpolar\"}],\"pie\":[{\"automargin\":true,\"type\":\"pie\"}]},\"layout\":{\"autotypenumbers\":\"strict\",\"colorway\":[\"#636efa\",\"#EF553B\",\"#00cc96\",\"#ab63fa\",\"#FFA15A\",\"#19d3f3\",\"#FF6692\",\"#B6E880\",\"#FF97FF\",\"#FECB52\"],\"font\":{\"color\":\"#2a3f5f\"},\"hovermode\":\"closest\",\"hoverlabel\":{\"align\":\"left\"},\"paper_bgcolor\":\"white\",\"plot_bgcolor\":\"#E5ECF6\",\"polar\":{\"bgcolor\":\"#E5ECF6\",\"angularaxis\":{\"gridcolor\":\"white\",\"linecolor\":\"white\",\"ticks\":\"\"},\"radialaxis\":{\"gridcolor\":\"white\",\"linecolor\":\"white\",\"ticks\":\"\"}},\"ternary\":{\"bgcolor\":\"#E5ECF6\",\"aaxis\":{\"gridcolor\":\"white\",\"linecolor\":\"white\",\"ticks\":\"\"},\"baxis\":{\"gridcolor\":\"white\",\"linecolor\":\"white\",\"ticks\":\"\"},\"caxis\":{\"gridcolor\":\"white\",\"linecolor\":\"white\",\"ticks\":\"\"}},\"coloraxis\":{\"colorbar\":{\"outlinewidth\":0,\"ticks\":\"\"}},\"colorscale\":{\"sequential\":[[0.0,\"#0d0887\"],[0.1111111111111111,\"#46039f\"],[0.2222222222222222,\"#7201a8\"],[0.3333333333333333,\"#9c179e\"],[0.4444444444444444,\"#bd3786\"],[0.5555555555555556,\"#d8576b\"],[0.6666666666666666,\"#ed7953\"],[0.7777777777777778,\"#fb9f3a\"],[0.8888888888888888,\"#fdca26\"],[1.0,\"#f0f921\"]],\"sequentialminus\":[[0.0,\"#0d0887\"],[0.1111111111111111,\"#46039f\"],[0.2222222222222222,\"#7201a8\"],[0.3333333333333333,\"#9c179e\"],[0.4444444444444444,\"#bd3786\"],[0.5555555555555556,\"#d8576b\"],[0.6666666666666666,\"#ed7953\"],[0.7777777777777778,\"#fb9f3a\"],[0.8888888888888888,\"#fdca26\"],[1.0,\"#f0f921\"]],\"diverging\":[[0,\"#8e0152\"],[0.1,\"#c51b7d\"],[0.2,\"#de77ae\"],[0.3,\"#f1b6da\"],[0.4,\"#fde0ef\"],[0.5,\"#f7f7f7\"],[0.6,\"#e6f5d0\"],[0.7,\"#b8e186\"],[0.8,\"#7fbc41\"],[0.9,\"#4d9221\"],[1,\"#276419\"]]},\"xaxis\":{\"gridcolor\":\"white\",\"linecolor\":\"white\",\"ticks\":\"\",\"title\":{\"standoff\":15},\"zerolinecolor\":\"white\",\"automargin\":true,\"zerolinewidth\":2},\"yaxis\":{\"gridcolor\":\"white\",\"linecolor\":\"white\",\"ticks\":\"\",\"title\":{\"standoff\":15},\"zerolinecolor\":\"white\",\"automargin\":true,\"zerolinewidth\":2},\"scene\":{\"xaxis\":{\"backgroundcolor\":\"#E5ECF6\",\"gridcolor\":\"white\",\"linecolor\":\"white\",\"showbackground\":true,\"ticks\":\"\",\"zerolinecolor\":\"white\",\"gridwidth\":2},\"yaxis\":{\"backgroundcolor\":\"#E5ECF6\",\"gridcolor\":\"white\",\"linecolor\":\"white\",\"showbackground\":true,\"ticks\":\"\",\"zerolinecolor\":\"white\",\"gridwidth\":2},\"zaxis\":{\"backgroundcolor\":\"#E5ECF6\",\"gridcolor\":\"white\",\"linecolor\":\"white\",\"showbackground\":true,\"ticks\":\"\",\"zerolinecolor\":\"white\",\"gridwidth\":2}},\"shapedefaults\":{\"line\":{\"color\":\"#2a3f5f\"}},\"annotationdefaults\":{\"arrowcolor\":\"#2a3f5f\",\"arrowhead\":0,\"arrowwidth\":1},\"geo\":{\"bgcolor\":\"white\",\"landcolor\":\"#E5ECF6\",\"subunitcolor\":\"white\",\"showland\":true,\"showlakes\":true,\"lakecolor\":\"white\"},\"title\":{\"x\":0.05},\"mapbox\":{\"style\":\"light\"}}},\"xaxis\":{\"anchor\":\"y\",\"domain\":[0.0,1.0],\"title\":{\"text\":\"\"},\"ticktext\":[\"T1\\u003cbr\\u003e2016\",\"T2\\u003cbr\\u003e2016\",\"T3\\u003cbr\\u003e2016\",\"T4\\u003cbr\\u003e2016\",\"T1\\u003cbr\\u003e2017\",\"T2\\u003cbr\\u003e2017\",\"T3\\u003cbr\\u003e2017\",\"T4\\u003cbr\\u003e2017\",\"T1\\u003cbr\\u003e2018\",\"T2\\u003cbr\\u003e2018\",\"T3\\u003cbr\\u003e2018\",\"T4\\u003cbr\\u003e2018\",\"T1\\u003cbr\\u003e2019\",\"T2\\u003cbr\\u003e2019\",\"T3\\u003cbr\\u003e2019\",\"T4\\u003cbr\\u003e2019\"],\"tickvals\":[\"2016-03-31T00:00:00\",\"2016-06-30T00:00:00\",\"2016-09-30T00:00:00\",\"2016-12-31T00:00:00\",\"2017-03-31T00:00:00\",\"2017-06-30T00:00:00\",\"2017-09-30T00:00:00\",\"2017-12-31T00:00:00\",\"2018-03-31T00:00:00\",\"2018-06-30T00:00:00\",\"2018-09-30T00:00:00\",\"2018-12-31T00:00:00\",\"2019-03-31T00:00:00\",\"2019-06-30T00:00:00\",\"2019-09-30T00:00:00\",\"2019-12-31T00:00:00\"]},\"yaxis\":{\"anchor\":\"x\",\"domain\":[0.0,1.0],\"title\":{\"text\":\"\"},\"tickprefix\":\"R$ \",\"ticksuffix\":\" mil\"},\"legend\":{\"title\":{\"text\":\"Regi\\u00e3o\"},\"tracegroupgap\":0},\"margin\":{\"t\":60},\"font\":{\"family\":\"DejaVu Sans\",\"size\":15,\"color\":\"#495057\"},\"title\":{\"font\":{\"color\":\"#212529\",\"size\":24},\"text\":\"Faturamento da loja de departamentos por trimestre\\u003cbr\\u003e\\u003csup size=1 style=\\\"color:#555655\\\"\\u003eDe 2016 a 2019\\u003c\\u002fsup\\u003e\"},\"width\":1300,\"height\":600,\"plot_bgcolor\":\"#f8f9fa\"},                        {\"responsive\": true}                    ).then(function(){\n",
       "                            \n",
       "var gd = document.getElementById('46475302-c64f-4e56-9108-0ffeea59f4ad');\n",
       "var x = new MutationObserver(function (mutations, observer) {{\n",
       "        var display = window.getComputedStyle(gd).display;\n",
       "        if (!display || display === 'none') {{\n",
       "            console.log([gd, 'removed!']);\n",
       "            Plotly.purge(gd);\n",
       "            observer.disconnect();\n",
       "        }}\n",
       "}});\n",
       "\n",
       "// Listen for the removal of the full notebook cells\n",
       "var notebookContainer = gd.closest('#notebook-container');\n",
       "if (notebookContainer) {{\n",
       "    x.observe(notebookContainer, {childList: true});\n",
       "}}\n",
       "\n",
       "// Listen for the clearing of the current output cell\n",
       "var outputEl = gd.closest('.output');\n",
       "if (outputEl) {{\n",
       "    x.observe(outputEl, {childList: true});\n",
       "}}\n",
       "\n",
       "                        })                };                });            </script>        </div>"
      ]
     },
     "metadata": {},
     "output_type": "display_data"
    }
   ],
   "source": [
    "import plotly.express as px\n",
    "import warnings\n",
    "\n",
    "# Suprimir os FutureWarnings\n",
    "warnings.simplefilter(action='ignore', category=FutureWarning)\n",
    "\n",
    "fig = px.line(df_regiao, x=df_regiao.index, y=df_regiao.columns, markers=True, labels={\"regiao\": \"Região\"},\n",
    "              color_discrete_sequence=[AZUL2, VERMELHO1, AMARELO1 , VERDE1, CINZA3])\n",
    "\n",
    "\n",
    "fig.update_layout(width=1300, height=600, font_family = 'DejaVu Sans', font_size=15,\n",
    "                  font_color= CINZA2, title_font_color= CINZA1, title_font_size=24,\n",
    "                  title_text='Faturamento da loja de departamentos por trimestre' +\n",
    "                             '<br><sup size=1 style=\"color:#555655\">De 2016 a 2019</sup>',\n",
    "                  xaxis_title='', yaxis_title='', plot_bgcolor= CINZA5)\n",
    "\n",
    "fig.update_yaxes(tickprefix=\"R$ \", ticksuffix=\" mil\")\n",
    "\n",
    "labels = ['T1<br>2016', 'T2<br>2016', 'T3<br>2016', 'T4<br>2016',\n",
    "          'T1<br>2017', 'T2<br>2017', 'T3<br>2017', 'T4<br>2017',\n",
    "          'T1<br>2018', 'T2<br>2018', 'T3<br>2018', 'T4<br>2018',\n",
    "          'T1<br>2019', 'T2<br>2019', 'T3<br>2019', 'T4<br>2019']\n",
    "fig.update_xaxes(ticktext = labels, tickvals=df_regiao.index)\n",
    "\n",
    "fig.show()\n"
   ]
  },
  {
   "cell_type": "code",
   "execution_count": 38,
   "id": "2d839350-4708-4b11-83a9-44506b7cca6f",
   "metadata": {},
   "outputs": [
    {
     "data": {
      "application/vnd.plotly.v1+json": {
       "config": {
        "plotlyServerURL": "https://plot.ly"
       },
       "data": [
        {
         "hovertemplate": "<b>Período<b> %{x} br <b>Faturamento<b> %{y}",
         "legendgroup": "Sudeste",
         "line": {
          "color": "#0077b6",
          "dash": "solid"
         },
         "marker": {
          "symbol": "circle"
         },
         "mode": "markers+lines",
         "name": "Sudeste",
         "orientation": "v",
         "showlegend": true,
         "type": "scatter",
         "x": [
          "2016-03-31T00:00:00",
          "2016-06-30T00:00:00",
          "2016-09-30T00:00:00",
          "2016-12-31T00:00:00",
          "2017-03-31T00:00:00",
          "2017-06-30T00:00:00",
          "2017-09-30T00:00:00",
          "2017-12-31T00:00:00",
          "2018-03-31T00:00:00",
          "2018-06-30T00:00:00",
          "2018-09-30T00:00:00",
          "2018-12-31T00:00:00",
          "2019-03-31T00:00:00",
          "2019-06-30T00:00:00",
          "2019-09-30T00:00:00",
          "2019-12-31T00:00:00"
         ],
         "xaxis": "x",
         "y": [
          70.18,
          122.72,
          226.43,
          320.27,
          127.89,
          161.54,
          206.29,
          307.28,
          120.56,
          180.87,
          252.41,
          480,
          170.82,
          178.62,
          305,
          492.32
         ],
         "yaxis": "y"
        },
        {
         "hovertemplate": "<b>Período<b> %{x} br <b>Faturamento<b> %{y}",
         "legendgroup": "Nordeste",
         "line": {
          "color": "#e76f51",
          "dash": "solid"
         },
         "marker": {
          "symbol": "circle"
         },
         "mode": "markers+lines",
         "name": "Nordeste",
         "orientation": "v",
         "showlegend": true,
         "type": "scatter",
         "x": [
          "2016-03-31T00:00:00",
          "2016-06-30T00:00:00",
          "2016-09-30T00:00:00",
          "2016-12-31T00:00:00",
          "2017-03-31T00:00:00",
          "2017-06-30T00:00:00",
          "2017-09-30T00:00:00",
          "2017-12-31T00:00:00",
          "2018-03-31T00:00:00",
          "2018-06-30T00:00:00",
          "2018-09-30T00:00:00",
          "2018-12-31T00:00:00",
          "2019-03-31T00:00:00",
          "2019-06-30T00:00:00",
          "2019-09-30T00:00:00",
          "2019-12-31T00:00:00"
         ],
         "xaxis": "x",
         "y": [
          41.73,
          87.41,
          158.12,
          91.27,
          61.58,
          54.93,
          91.6,
          112.69,
          92.4,
          93.71,
          93.14,
          122.12,
          121.06,
          101.92,
          159.66,
          218.1
         ],
         "yaxis": "y"
        },
        {
         "hovertemplate": "<b>Período<b> %{x} br <b>Faturamento<b> %{y}",
         "legendgroup": "Centro-Oeste",
         "line": {
          "color": "#e9c46a",
          "dash": "solid"
         },
         "marker": {
          "symbol": "circle"
         },
         "mode": "markers+lines",
         "name": "Centro-Oeste",
         "orientation": "v",
         "showlegend": true,
         "type": "scatter",
         "x": [
          "2016-03-31T00:00:00",
          "2016-06-30T00:00:00",
          "2016-09-30T00:00:00",
          "2016-12-31T00:00:00",
          "2017-03-31T00:00:00",
          "2017-06-30T00:00:00",
          "2017-09-30T00:00:00",
          "2017-12-31T00:00:00",
          "2018-03-31T00:00:00",
          "2018-06-30T00:00:00",
          "2018-09-30T00:00:00",
          "2018-12-31T00:00:00",
          "2019-03-31T00:00:00",
          "2019-06-30T00:00:00",
          "2019-09-30T00:00:00",
          "2019-12-31T00:00:00"
         ],
         "xaxis": "x",
         "y": [
          16.8,
          30.83,
          39.61,
          34.41,
          5.9,
          16.96,
          48.82,
          77.54,
          29.3,
          77.91,
          51.03,
          49.83,
          40.37,
          30.02,
          87.09,
          100.3
         ],
         "yaxis": "y"
        },
        {
         "hovertemplate": "<b>Período<b> %{x} br <b>Faturamento<b> %{y}",
         "legendgroup": "Norte",
         "line": {
          "color": "#4c956c",
          "dash": "solid"
         },
         "marker": {
          "symbol": "circle"
         },
         "mode": "markers+lines",
         "name": "Norte",
         "orientation": "v",
         "showlegend": true,
         "type": "scatter",
         "x": [
          "2016-03-31T00:00:00",
          "2016-06-30T00:00:00",
          "2016-09-30T00:00:00",
          "2016-12-31T00:00:00",
          "2017-03-31T00:00:00",
          "2017-06-30T00:00:00",
          "2017-09-30T00:00:00",
          "2017-12-31T00:00:00",
          "2018-03-31T00:00:00",
          "2018-06-30T00:00:00",
          "2018-09-30T00:00:00",
          "2018-12-31T00:00:00",
          "2019-03-31T00:00:00",
          "2019-06-30T00:00:00",
          "2019-09-30T00:00:00",
          "2019-12-31T00:00:00"
         ],
         "xaxis": "x",
         "y": [
          9.31,
          24.68,
          21.94,
          45.65,
          35.25,
          13.35,
          48.71,
          26.86,
          39.03,
          31.35,
          16.16,
          22.17,
          25.11,
          57.4,
          51.54,
          36.26
         ],
         "yaxis": "y"
        },
        {
         "hovertemplate": "<b>Período<b> %{x} br <b>Faturamento<b> %{y}",
         "legendgroup": "Sul",
         "line": {
          "color": "#adb5bd",
          "dash": "solid"
         },
         "marker": {
          "symbol": "circle"
         },
         "mode": "markers+lines",
         "name": "Sul",
         "orientation": "v",
         "showlegend": true,
         "type": "scatter",
         "x": [
          "2016-03-31T00:00:00",
          "2016-06-30T00:00:00",
          "2016-09-30T00:00:00",
          "2016-12-31T00:00:00",
          "2017-03-31T00:00:00",
          "2017-06-30T00:00:00",
          "2017-09-30T00:00:00",
          "2017-12-31T00:00:00",
          "2018-03-31T00:00:00",
          "2018-06-30T00:00:00",
          "2018-09-30T00:00:00",
          "2018-12-31T00:00:00",
          "2019-03-31T00:00:00",
          "2019-06-30T00:00:00",
          "2019-09-30T00:00:00",
          "2019-12-31T00:00:00"
         ],
         "xaxis": "x",
         "y": [
          1.51,
          10.62,
          11.97,
          37.19,
          4.75,
          21.23,
          21.68,
          44.34,
          6.95,
          46.78,
          26.43,
          52.02,
          26.18,
          34.39,
          37.99,
          30.85
         ],
         "yaxis": "y"
        }
       ],
       "layout": {
        "font": {
         "color": "#495057",
         "family": "DejaVu Sans",
         "size": 15
        },
        "height": 600,
        "hovermode": "x unified",
        "legend": {
         "title": {
          "text": "Região"
         },
         "tracegroupgap": 0
        },
        "margin": {
         "t": 60
        },
        "plot_bgcolor": "#f8f9fa",
        "template": {
         "data": {
          "bar": [
           {
            "error_x": {
             "color": "#2a3f5f"
            },
            "error_y": {
             "color": "#2a3f5f"
            },
            "marker": {
             "line": {
              "color": "#E5ECF6",
              "width": 0.5
             },
             "pattern": {
              "fillmode": "overlay",
              "size": 10,
              "solidity": 0.2
             }
            },
            "type": "bar"
           }
          ],
          "barpolar": [
           {
            "marker": {
             "line": {
              "color": "#E5ECF6",
              "width": 0.5
             },
             "pattern": {
              "fillmode": "overlay",
              "size": 10,
              "solidity": 0.2
             }
            },
            "type": "barpolar"
           }
          ],
          "carpet": [
           {
            "aaxis": {
             "endlinecolor": "#2a3f5f",
             "gridcolor": "white",
             "linecolor": "white",
             "minorgridcolor": "white",
             "startlinecolor": "#2a3f5f"
            },
            "baxis": {
             "endlinecolor": "#2a3f5f",
             "gridcolor": "white",
             "linecolor": "white",
             "minorgridcolor": "white",
             "startlinecolor": "#2a3f5f"
            },
            "type": "carpet"
           }
          ],
          "choropleth": [
           {
            "colorbar": {
             "outlinewidth": 0,
             "ticks": ""
            },
            "type": "choropleth"
           }
          ],
          "contour": [
           {
            "colorbar": {
             "outlinewidth": 0,
             "ticks": ""
            },
            "colorscale": [
             [
              0,
              "#0d0887"
             ],
             [
              0.1111111111111111,
              "#46039f"
             ],
             [
              0.2222222222222222,
              "#7201a8"
             ],
             [
              0.3333333333333333,
              "#9c179e"
             ],
             [
              0.4444444444444444,
              "#bd3786"
             ],
             [
              0.5555555555555556,
              "#d8576b"
             ],
             [
              0.6666666666666666,
              "#ed7953"
             ],
             [
              0.7777777777777778,
              "#fb9f3a"
             ],
             [
              0.8888888888888888,
              "#fdca26"
             ],
             [
              1,
              "#f0f921"
             ]
            ],
            "type": "contour"
           }
          ],
          "contourcarpet": [
           {
            "colorbar": {
             "outlinewidth": 0,
             "ticks": ""
            },
            "type": "contourcarpet"
           }
          ],
          "heatmap": [
           {
            "colorbar": {
             "outlinewidth": 0,
             "ticks": ""
            },
            "colorscale": [
             [
              0,
              "#0d0887"
             ],
             [
              0.1111111111111111,
              "#46039f"
             ],
             [
              0.2222222222222222,
              "#7201a8"
             ],
             [
              0.3333333333333333,
              "#9c179e"
             ],
             [
              0.4444444444444444,
              "#bd3786"
             ],
             [
              0.5555555555555556,
              "#d8576b"
             ],
             [
              0.6666666666666666,
              "#ed7953"
             ],
             [
              0.7777777777777778,
              "#fb9f3a"
             ],
             [
              0.8888888888888888,
              "#fdca26"
             ],
             [
              1,
              "#f0f921"
             ]
            ],
            "type": "heatmap"
           }
          ],
          "heatmapgl": [
           {
            "colorbar": {
             "outlinewidth": 0,
             "ticks": ""
            },
            "colorscale": [
             [
              0,
              "#0d0887"
             ],
             [
              0.1111111111111111,
              "#46039f"
             ],
             [
              0.2222222222222222,
              "#7201a8"
             ],
             [
              0.3333333333333333,
              "#9c179e"
             ],
             [
              0.4444444444444444,
              "#bd3786"
             ],
             [
              0.5555555555555556,
              "#d8576b"
             ],
             [
              0.6666666666666666,
              "#ed7953"
             ],
             [
              0.7777777777777778,
              "#fb9f3a"
             ],
             [
              0.8888888888888888,
              "#fdca26"
             ],
             [
              1,
              "#f0f921"
             ]
            ],
            "type": "heatmapgl"
           }
          ],
          "histogram": [
           {
            "marker": {
             "pattern": {
              "fillmode": "overlay",
              "size": 10,
              "solidity": 0.2
             }
            },
            "type": "histogram"
           }
          ],
          "histogram2d": [
           {
            "colorbar": {
             "outlinewidth": 0,
             "ticks": ""
            },
            "colorscale": [
             [
              0,
              "#0d0887"
             ],
             [
              0.1111111111111111,
              "#46039f"
             ],
             [
              0.2222222222222222,
              "#7201a8"
             ],
             [
              0.3333333333333333,
              "#9c179e"
             ],
             [
              0.4444444444444444,
              "#bd3786"
             ],
             [
              0.5555555555555556,
              "#d8576b"
             ],
             [
              0.6666666666666666,
              "#ed7953"
             ],
             [
              0.7777777777777778,
              "#fb9f3a"
             ],
             [
              0.8888888888888888,
              "#fdca26"
             ],
             [
              1,
              "#f0f921"
             ]
            ],
            "type": "histogram2d"
           }
          ],
          "histogram2dcontour": [
           {
            "colorbar": {
             "outlinewidth": 0,
             "ticks": ""
            },
            "colorscale": [
             [
              0,
              "#0d0887"
             ],
             [
              0.1111111111111111,
              "#46039f"
             ],
             [
              0.2222222222222222,
              "#7201a8"
             ],
             [
              0.3333333333333333,
              "#9c179e"
             ],
             [
              0.4444444444444444,
              "#bd3786"
             ],
             [
              0.5555555555555556,
              "#d8576b"
             ],
             [
              0.6666666666666666,
              "#ed7953"
             ],
             [
              0.7777777777777778,
              "#fb9f3a"
             ],
             [
              0.8888888888888888,
              "#fdca26"
             ],
             [
              1,
              "#f0f921"
             ]
            ],
            "type": "histogram2dcontour"
           }
          ],
          "mesh3d": [
           {
            "colorbar": {
             "outlinewidth": 0,
             "ticks": ""
            },
            "type": "mesh3d"
           }
          ],
          "parcoords": [
           {
            "line": {
             "colorbar": {
              "outlinewidth": 0,
              "ticks": ""
             }
            },
            "type": "parcoords"
           }
          ],
          "pie": [
           {
            "automargin": true,
            "type": "pie"
           }
          ],
          "scatter": [
           {
            "fillpattern": {
             "fillmode": "overlay",
             "size": 10,
             "solidity": 0.2
            },
            "type": "scatter"
           }
          ],
          "scatter3d": [
           {
            "line": {
             "colorbar": {
              "outlinewidth": 0,
              "ticks": ""
             }
            },
            "marker": {
             "colorbar": {
              "outlinewidth": 0,
              "ticks": ""
             }
            },
            "type": "scatter3d"
           }
          ],
          "scattercarpet": [
           {
            "marker": {
             "colorbar": {
              "outlinewidth": 0,
              "ticks": ""
             }
            },
            "type": "scattercarpet"
           }
          ],
          "scattergeo": [
           {
            "marker": {
             "colorbar": {
              "outlinewidth": 0,
              "ticks": ""
             }
            },
            "type": "scattergeo"
           }
          ],
          "scattergl": [
           {
            "marker": {
             "colorbar": {
              "outlinewidth": 0,
              "ticks": ""
             }
            },
            "type": "scattergl"
           }
          ],
          "scattermapbox": [
           {
            "marker": {
             "colorbar": {
              "outlinewidth": 0,
              "ticks": ""
             }
            },
            "type": "scattermapbox"
           }
          ],
          "scatterpolar": [
           {
            "marker": {
             "colorbar": {
              "outlinewidth": 0,
              "ticks": ""
             }
            },
            "type": "scatterpolar"
           }
          ],
          "scatterpolargl": [
           {
            "marker": {
             "colorbar": {
              "outlinewidth": 0,
              "ticks": ""
             }
            },
            "type": "scatterpolargl"
           }
          ],
          "scatterternary": [
           {
            "marker": {
             "colorbar": {
              "outlinewidth": 0,
              "ticks": ""
             }
            },
            "type": "scatterternary"
           }
          ],
          "surface": [
           {
            "colorbar": {
             "outlinewidth": 0,
             "ticks": ""
            },
            "colorscale": [
             [
              0,
              "#0d0887"
             ],
             [
              0.1111111111111111,
              "#46039f"
             ],
             [
              0.2222222222222222,
              "#7201a8"
             ],
             [
              0.3333333333333333,
              "#9c179e"
             ],
             [
              0.4444444444444444,
              "#bd3786"
             ],
             [
              0.5555555555555556,
              "#d8576b"
             ],
             [
              0.6666666666666666,
              "#ed7953"
             ],
             [
              0.7777777777777778,
              "#fb9f3a"
             ],
             [
              0.8888888888888888,
              "#fdca26"
             ],
             [
              1,
              "#f0f921"
             ]
            ],
            "type": "surface"
           }
          ],
          "table": [
           {
            "cells": {
             "fill": {
              "color": "#EBF0F8"
             },
             "line": {
              "color": "white"
             }
            },
            "header": {
             "fill": {
              "color": "#C8D4E3"
             },
             "line": {
              "color": "white"
             }
            },
            "type": "table"
           }
          ]
         },
         "layout": {
          "annotationdefaults": {
           "arrowcolor": "#2a3f5f",
           "arrowhead": 0,
           "arrowwidth": 1
          },
          "autotypenumbers": "strict",
          "coloraxis": {
           "colorbar": {
            "outlinewidth": 0,
            "ticks": ""
           }
          },
          "colorscale": {
           "diverging": [
            [
             0,
             "#8e0152"
            ],
            [
             0.1,
             "#c51b7d"
            ],
            [
             0.2,
             "#de77ae"
            ],
            [
             0.3,
             "#f1b6da"
            ],
            [
             0.4,
             "#fde0ef"
            ],
            [
             0.5,
             "#f7f7f7"
            ],
            [
             0.6,
             "#e6f5d0"
            ],
            [
             0.7,
             "#b8e186"
            ],
            [
             0.8,
             "#7fbc41"
            ],
            [
             0.9,
             "#4d9221"
            ],
            [
             1,
             "#276419"
            ]
           ],
           "sequential": [
            [
             0,
             "#0d0887"
            ],
            [
             0.1111111111111111,
             "#46039f"
            ],
            [
             0.2222222222222222,
             "#7201a8"
            ],
            [
             0.3333333333333333,
             "#9c179e"
            ],
            [
             0.4444444444444444,
             "#bd3786"
            ],
            [
             0.5555555555555556,
             "#d8576b"
            ],
            [
             0.6666666666666666,
             "#ed7953"
            ],
            [
             0.7777777777777778,
             "#fb9f3a"
            ],
            [
             0.8888888888888888,
             "#fdca26"
            ],
            [
             1,
             "#f0f921"
            ]
           ],
           "sequentialminus": [
            [
             0,
             "#0d0887"
            ],
            [
             0.1111111111111111,
             "#46039f"
            ],
            [
             0.2222222222222222,
             "#7201a8"
            ],
            [
             0.3333333333333333,
             "#9c179e"
            ],
            [
             0.4444444444444444,
             "#bd3786"
            ],
            [
             0.5555555555555556,
             "#d8576b"
            ],
            [
             0.6666666666666666,
             "#ed7953"
            ],
            [
             0.7777777777777778,
             "#fb9f3a"
            ],
            [
             0.8888888888888888,
             "#fdca26"
            ],
            [
             1,
             "#f0f921"
            ]
           ]
          },
          "colorway": [
           "#636efa",
           "#EF553B",
           "#00cc96",
           "#ab63fa",
           "#FFA15A",
           "#19d3f3",
           "#FF6692",
           "#B6E880",
           "#FF97FF",
           "#FECB52"
          ],
          "font": {
           "color": "#2a3f5f"
          },
          "geo": {
           "bgcolor": "white",
           "lakecolor": "white",
           "landcolor": "#E5ECF6",
           "showlakes": true,
           "showland": true,
           "subunitcolor": "white"
          },
          "hoverlabel": {
           "align": "left"
          },
          "hovermode": "closest",
          "mapbox": {
           "style": "light"
          },
          "paper_bgcolor": "white",
          "plot_bgcolor": "#E5ECF6",
          "polar": {
           "angularaxis": {
            "gridcolor": "white",
            "linecolor": "white",
            "ticks": ""
           },
           "bgcolor": "#E5ECF6",
           "radialaxis": {
            "gridcolor": "white",
            "linecolor": "white",
            "ticks": ""
           }
          },
          "scene": {
           "xaxis": {
            "backgroundcolor": "#E5ECF6",
            "gridcolor": "white",
            "gridwidth": 2,
            "linecolor": "white",
            "showbackground": true,
            "ticks": "",
            "zerolinecolor": "white"
           },
           "yaxis": {
            "backgroundcolor": "#E5ECF6",
            "gridcolor": "white",
            "gridwidth": 2,
            "linecolor": "white",
            "showbackground": true,
            "ticks": "",
            "zerolinecolor": "white"
           },
           "zaxis": {
            "backgroundcolor": "#E5ECF6",
            "gridcolor": "white",
            "gridwidth": 2,
            "linecolor": "white",
            "showbackground": true,
            "ticks": "",
            "zerolinecolor": "white"
           }
          },
          "shapedefaults": {
           "line": {
            "color": "#2a3f5f"
           }
          },
          "ternary": {
           "aaxis": {
            "gridcolor": "white",
            "linecolor": "white",
            "ticks": ""
           },
           "baxis": {
            "gridcolor": "white",
            "linecolor": "white",
            "ticks": ""
           },
           "bgcolor": "#E5ECF6",
           "caxis": {
            "gridcolor": "white",
            "linecolor": "white",
            "ticks": ""
           }
          },
          "title": {
           "x": 0.05
          },
          "xaxis": {
           "automargin": true,
           "gridcolor": "white",
           "linecolor": "white",
           "ticks": "",
           "title": {
            "standoff": 15
           },
           "zerolinecolor": "white",
           "zerolinewidth": 2
          },
          "yaxis": {
           "automargin": true,
           "gridcolor": "white",
           "linecolor": "white",
           "ticks": "",
           "title": {
            "standoff": 15
           },
           "zerolinecolor": "white",
           "zerolinewidth": 2
          }
         }
        },
        "title": {
         "font": {
          "color": "#212529",
          "size": 24
         },
         "text": "Faturamento da loja de departamentos por trimestre<br><sup size=1 style=\"color:#555655\">De 2016 a 2019</sup>"
        },
        "width": 1300,
        "xaxis": {
         "anchor": "y",
         "autorange": true,
         "domain": [
          0,
          1
         ],
         "range": [
          "2016-01-08 16:37:49.4888",
          "2020-03-22 07:22:10.5112"
         ],
         "ticktext": [
          "T1<br>2016",
          "T2<br>2016",
          "T3<br>2016",
          "T4<br>2016",
          "T1<br>2017",
          "T2<br>2017",
          "T3<br>2017",
          "T4<br>2017",
          "T1<br>2018",
          "T2<br>2018",
          "T3<br>2018",
          "T4<br>2018",
          "T1<br>2019",
          "T2<br>2019",
          "T3<br>2019",
          "T4<br>2019"
         ],
         "tickvals": [
          "2016-03-31T00:00:00",
          "2016-06-30T00:00:00",
          "2016-09-30T00:00:00",
          "2016-12-31T00:00:00",
          "2017-03-31T00:00:00",
          "2017-06-30T00:00:00",
          "2017-09-30T00:00:00",
          "2017-12-31T00:00:00",
          "2018-03-31T00:00:00",
          "2018-06-30T00:00:00",
          "2018-09-30T00:00:00",
          "2018-12-31T00:00:00",
          "2019-03-31T00:00:00",
          "2019-06-30T00:00:00",
          "2019-09-30T00:00:00",
          "2019-12-31T00:00:00"
         ],
         "title": {
          "text": ""
         },
         "type": "date"
        },
        "yaxis": {
         "anchor": "x",
         "autorange": true,
         "domain": [
          0,
          1
         ],
         "range": [
          -30.78807503075031,
          524.6180750307503
         ],
         "tickprefix": "R$ ",
         "ticksuffix": " mil",
         "title": {
          "text": ""
         },
         "type": "linear"
        }
       }
      },
      "image/png": "[encoded data removed]",
      "text/html": [
       "<div>                            <div id=\"4db33a53-7cf2-4a36-85df-dfe9aee440c3\" class=\"plotly-graph-div\" style=\"height:600px; width:1300px;\"></div>            <script type=\"text/javascript\">                require([\"plotly\"], function(Plotly) {                    window.PLOTLYENV=window.PLOTLYENV || {};                                    if (document.getElementById(\"4db33a53-7cf2-4a36-85df-dfe9aee440c3\")) {                    Plotly.newPlot(                        \"4db33a53-7cf2-4a36-85df-dfe9aee440c3\",                        [{\"hovertemplate\":\"\\u003cb\\u003ePer\\u00edodo\\u003cb\\u003e %{x} br \\u003cb\\u003eFaturamento\\u003cb\\u003e %{y}\",\"legendgroup\":\"Sudeste\",\"line\":{\"color\":\"#0077b6\",\"dash\":\"solid\"},\"marker\":{\"symbol\":\"circle\"},\"mode\":\"markers+lines\",\"name\":\"Sudeste\",\"orientation\":\"v\",\"showlegend\":true,\"x\":[\"2016-03-31T00:00:00\",\"2016-06-30T00:00:00\",\"2016-09-30T00:00:00\",\"2016-12-31T00:00:00\",\"2017-03-31T00:00:00\",\"2017-06-30T00:00:00\",\"2017-09-30T00:00:00\",\"2017-12-31T00:00:00\",\"2018-03-31T00:00:00\",\"2018-06-30T00:00:00\",\"2018-09-30T00:00:00\",\"2018-12-31T00:00:00\",\"2019-03-31T00:00:00\",\"2019-06-30T00:00:00\",\"2019-09-30T00:00:00\",\"2019-12-31T00:00:00\"],\"xaxis\":\"x\",\"y\":[70.18,122.72,226.43,320.27,127.89,161.54,206.29,307.28,120.56,180.87,252.41,480.0,170.82,178.62,305.0,492.32],\"yaxis\":\"y\",\"type\":\"scatter\"},{\"hovertemplate\":\"\\u003cb\\u003ePer\\u00edodo\\u003cb\\u003e %{x} br \\u003cb\\u003eFaturamento\\u003cb\\u003e %{y}\",\"legendgroup\":\"Nordeste\",\"line\":{\"color\":\"#e76f51\",\"dash\":\"solid\"},\"marker\":{\"symbol\":\"circle\"},\"mode\":\"markers+lines\",\"name\":\"Nordeste\",\"orientation\":\"v\",\"showlegend\":true,\"x\":[\"2016-03-31T00:00:00\",\"2016-06-30T00:00:00\",\"2016-09-30T00:00:00\",\"2016-12-31T00:00:00\",\"2017-03-31T00:00:00\",\"2017-06-30T00:00:00\",\"2017-09-30T00:00:00\",\"2017-12-31T00:00:00\",\"2018-03-31T00:00:00\",\"2018-06-30T00:00:00\",\"2018-09-30T00:00:00\",\"2018-12-31T00:00:00\",\"2019-03-31T00:00:00\",\"2019-06-30T00:00:00\",\"2019-09-30T00:00:00\",\"2019-12-31T00:00:00\"],\"xaxis\":\"x\",\"y\":[41.73,87.41,158.12,91.27,61.58,54.93,91.6,112.69,92.4,93.71,93.14,122.12,121.06,101.92,159.66,218.1],\"yaxis\":\"y\",\"type\":\"scatter\"},{\"hovertemplate\":\"\\u003cb\\u003ePer\\u00edodo\\u003cb\\u003e %{x} br \\u003cb\\u003eFaturamento\\u003cb\\u003e %{y}\",\"legendgroup\":\"Centro-Oeste\",\"line\":{\"color\":\"#e9c46a\",\"dash\":\"solid\"},\"marker\":{\"symbol\":\"circle\"},\"mode\":\"markers+lines\",\"name\":\"Centro-Oeste\",\"orientation\":\"v\",\"showlegend\":true,\"x\":[\"2016-03-31T00:00:00\",\"2016-06-30T00:00:00\",\"2016-09-30T00:00:00\",\"2016-12-31T00:00:00\",\"2017-03-31T00:00:00\",\"2017-06-30T00:00:00\",\"2017-09-30T00:00:00\",\"2017-12-31T00:00:00\",\"2018-03-31T00:00:00\",\"2018-06-30T00:00:00\",\"2018-09-30T00:00:00\",\"2018-12-31T00:00:00\",\"2019-03-31T00:00:00\",\"2019-06-30T00:00:00\",\"2019-09-30T00:00:00\",\"2019-12-31T00:00:00\"],\"xaxis\":\"x\",\"y\":[16.8,30.83,39.61,34.41,5.9,16.96,48.82,77.54,29.3,77.91,51.03,49.83,40.37,30.02,87.09,100.3],\"yaxis\":\"y\",\"type\":\"scatter\"},{\"hovertemplate\":\"\\u003cb\\u003ePer\\u00edodo\\u003cb\\u003e %{x} br \\u003cb\\u003eFaturamento\\u003cb\\u003e %{y}\",\"legendgroup\":\"Norte\",\"line\":{\"color\":\"#4c956c\",\"dash\":\"solid\"},\"marker\":{\"symbol\":\"circle\"},\"mode\":\"markers+lines\",\"name\":\"Norte\",\"orientation\":\"v\",\"showlegend\":true,\"x\":[\"2016-03-31T00:00:00\",\"2016-06-30T00:00:00\",\"2016-09-30T00:00:00\",\"2016-12-31T00:00:00\",\"2017-03-31T00:00:00\",\"2017-06-30T00:00:00\",\"2017-09-30T00:00:00\",\"2017-12-31T00:00:00\",\"2018-03-31T00:00:00\",\"2018-06-30T00:00:00\",\"2018-09-30T00:00:00\",\"2018-12-31T00:00:00\",\"2019-03-31T00:00:00\",\"2019-06-30T00:00:00\",\"2019-09-30T00:00:00\",\"2019-12-31T00:00:00\"],\"xaxis\":\"x\",\"y\":[9.31,24.68,21.94,45.65,35.25,13.35,48.71,26.86,39.03,31.35,16.16,22.17,25.11,57.4,51.54,36.26],\"yaxis\":\"y\",\"type\":\"scatter\"},{\"hovertemplate\":\"\\u003cb\\u003ePer\\u00edodo\\u003cb\\u003e %{x} br \\u003cb\\u003eFaturamento\\u003cb\\u003e %{y}\",\"legendgroup\":\"Sul\",\"line\":{\"color\":\"#adb5bd\",\"dash\":\"solid\"},\"marker\":{\"symbol\":\"circle\"},\"mode\":\"markers+lines\",\"name\":\"Sul\",\"orientation\":\"v\",\"showlegend\":true,\"x\":[\"2016-03-31T00:00:00\",\"2016-06-30T00:00:00\",\"2016-09-30T00:00:00\",\"2016-12-31T00:00:00\",\"2017-03-31T00:00:00\",\"2017-06-30T00:00:00\",\"2017-09-30T00:00:00\",\"2017-12-31T00:00:00\",\"2018-03-31T00:00:00\",\"2018-06-30T00:00:00\",\"2018-09-30T00:00:00\",\"2018-12-31T00:00:00\",\"2019-03-31T00:00:00\",\"2019-06-30T00:00:00\",\"2019-09-30T00:00:00\",\"2019-12-31T00:00:00\"],\"xaxis\":\"x\",\"y\":[1.51,10.62,11.97,37.19,4.75,21.23,21.68,44.34,6.95,46.78,26.43,52.02,26.18,34.39,37.99,30.85],\"yaxis\":\"y\",\"type\":\"scatter\"}],                        {\"template\":{\"data\":{\"histogram2dcontour\":[{\"type\":\"histogram2dcontour\",\"colorbar\":{\"outlinewidth\":0,\"ticks\":\"\"},\"colorscale\":[[0.0,\"#0d0887\"],[0.1111111111111111,\"#46039f\"],[0.2222222222222222,\"#7201a8\"],[0.3333333333333333,\"#9c179e\"],[0.4444444444444444,\"#bd3786\"],[0.5555555555555556,\"#d8576b\"],[0.6666666666666666,\"#ed7953\"],[0.7777777777777778,\"#fb9f3a\"],[0.8888888888888888,\"#fdca26\"],[1.0,\"#f0f921\"]]}],\"choropleth\":[{\"type\":\"choropleth\",\"colorbar\":{\"outlinewidth\":0,\"ticks\":\"\"}}],\"histogram2d\":[{\"type\":\"histogram2d\",\"colorbar\":{\"outlinewidth\":0,\"ticks\":\"\"},\"colorscale\":[[0.0,\"#0d0887\"],[0.1111111111111111,\"#46039f\"],[0.2222222222222222,\"#7201a8\"],[0.3333333333333333,\"#9c179e\"],[0.4444444444444444,\"#bd3786\"],[0.5555555555555556,\"#d8576b\"],[0.6666666666666666,\"#ed7953\"],[0.7777777777777778,\"#fb9f3a\"],[0.8888888888888888,\"#fdca26\"],[1.0,\"#f0f921\"]]}],\"heatmap\":[{\"type\":\"heatmap\",\"colorbar\":{\"outlinewidth\":0,\"ticks\":\"\"},\"colorscale\":[[0.0,\"#0d0887\"],[0.1111111111111111,\"#46039f\"],[0.2222222222222222,\"#7201a8\"],[0.3333333333333333,\"#9c179e\"],[0.4444444444444444,\"#bd3786\"],[0.5555555555555556,\"#d8576b\"],[0.6666666666666666,\"#ed7953\"],[0.7777777777777778,\"#fb9f3a\"],[0.8888888888888888,\"#fdca26\"],[1.0,\"#f0f921\"]]}],\"heatmapgl\":[{\"type\":\"heatmapgl\",\"colorbar\":{\"outlinewidth\":0,\"ticks\":\"\"},\"colorscale\":[[0.0,\"#0d0887\"],[0.1111111111111111,\"#46039f\"],[0.2222222222222222,\"#7201a8\"],[0.3333333333333333,\"#9c179e\"],[0.4444444444444444,\"#bd3786\"],[0.5555555555555556,\"#d8576b\"],[0.6666666666666666,\"#ed7953\"],[0.7777777777777778,\"#fb9f3a\"],[0.8888888888888888,\"#fdca26\"],[1.0,\"#f0f921\"]]}],\"contourcarpet\":[{\"type\":\"contourcarpet\",\"colorbar\":{\"outlinewidth\":0,\"ticks\":\"\"}}],\"contour\":[{\"type\":\"contour\",\"colorbar\":{\"outlinewidth\":0,\"ticks\":\"\"},\"colorscale\":[[0.0,\"#0d0887\"],[0.1111111111111111,\"#46039f\"],[0.2222222222222222,\"#7201a8\"],[0.3333333333333333,\"#9c179e\"],[0.4444444444444444,\"#bd3786\"],[0.5555555555555556,\"#d8576b\"],[0.6666666666666666,\"#ed7953\"],[0.7777777777777778,\"#fb9f3a\"],[0.8888888888888888,\"#fdca26\"],[1.0,\"#f0f921\"]]}],\"surface\":[{\"type\":\"surface\",\"colorbar\":{\"outlinewidth\":0,\"ticks\":\"\"},\"colorscale\":[[0.0,\"#0d0887\"],[0.1111111111111111,\"#46039f\"],[0.2222222222222222,\"#7201a8\"],[0.3333333333333333,\"#9c179e\"],[0.4444444444444444,\"#bd3786\"],[0.5555555555555556,\"#d8576b\"],[0.6666666666666666,\"#ed7953\"],[0.7777777777777778,\"#fb9f3a\"],[0.8888888888888888,\"#fdca26\"],[1.0,\"#f0f921\"]]}],\"mesh3d\":[{\"type\":\"mesh3d\",\"colorbar\":{\"outlinewidth\":0,\"ticks\":\"\"}}],\"scatter\":[{\"fillpattern\":{\"fillmode\":\"overlay\",\"size\":10,\"solidity\":0.2},\"type\":\"scatter\"}],\"parcoords\":[{\"type\":\"parcoords\",\"line\":{\"colorbar\":{\"outlinewidth\":0,\"ticks\":\"\"}}}],\"scatterpolargl\":[{\"type\":\"scatterpolargl\",\"marker\":{\"colorbar\":{\"outlinewidth\":0,\"ticks\":\"\"}}}],\"bar\":[{\"error_x\":{\"color\":\"#2a3f5f\"},\"error_y\":{\"color\":\"#2a3f5f\"},\"marker\":{\"line\":{\"color\":\"#E5ECF6\",\"width\":0.5},\"pattern\":{\"fillmode\":\"overlay\",\"size\":10,\"solidity\":0.2}},\"type\":\"bar\"}],\"scattergeo\":[{\"type\":\"scattergeo\",\"marker\":{\"colorbar\":{\"outlinewidth\":0,\"ticks\":\"\"}}}],\"scatterpolar\":[{\"type\":\"scatterpolar\",\"marker\":{\"colorbar\":{\"outlinewidth\":0,\"ticks\":\"\"}}}],\"histogram\":[{\"marker\":{\"pattern\":{\"fillmode\":\"overlay\",\"size\":10,\"solidity\":0.2}},\"type\":\"histogram\"}],\"scattergl\":[{\"type\":\"scattergl\",\"marker\":{\"colorbar\":{\"outlinewidth\":0,\"ticks\":\"\"}}}],\"scatter3d\":[{\"type\":\"scatter3d\",\"line\":{\"colorbar\":{\"outlinewidth\":0,\"ticks\":\"\"}},\"marker\":{\"colorbar\":{\"outlinewidth\":0,\"ticks\":\"\"}}}],\"scattermapbox\":[{\"type\":\"scattermapbox\",\"marker\":{\"colorbar\":{\"outlinewidth\":0,\"ticks\":\"\"}}}],\"scatterternary\":[{\"type\":\"scatterternary\",\"marker\":{\"colorbar\":{\"outlinewidth\":0,\"ticks\":\"\"}}}],\"scattercarpet\":[{\"type\":\"scattercarpet\",\"marker\":{\"colorbar\":{\"outlinewidth\":0,\"ticks\":\"\"}}}],\"carpet\":[{\"aaxis\":{\"endlinecolor\":\"#2a3f5f\",\"gridcolor\":\"white\",\"linecolor\":\"white\",\"minorgridcolor\":\"white\",\"startlinecolor\":\"#2a3f5f\"},\"baxis\":{\"endlinecolor\":\"#2a3f5f\",\"gridcolor\":\"white\",\"linecolor\":\"white\",\"minorgridcolor\":\"white\",\"startlinecolor\":\"#2a3f5f\"},\"type\":\"carpet\"}],\"table\":[{\"cells\":{\"fill\":{\"color\":\"#EBF0F8\"},\"line\":{\"color\":\"white\"}},\"header\":{\"fill\":{\"color\":\"#C8D4E3\"},\"line\":{\"color\":\"white\"}},\"type\":\"table\"}],\"barpolar\":[{\"marker\":{\"line\":{\"color\":\"#E5ECF6\",\"width\":0.5},\"pattern\":{\"fillmode\":\"overlay\",\"size\":10,\"solidity\":0.2}},\"type\":\"barpolar\"}],\"pie\":[{\"automargin\":true,\"type\":\"pie\"}]},\"layout\":{\"autotypenumbers\":\"strict\",\"colorway\":[\"#636efa\",\"#EF553B\",\"#00cc96\",\"#ab63fa\",\"#FFA15A\",\"#19d3f3\",\"#FF6692\",\"#B6E880\",\"#FF97FF\",\"#FECB52\"],\"font\":{\"color\":\"#2a3f5f\"},\"hovermode\":\"closest\",\"hoverlabel\":{\"align\":\"left\"},\"paper_bgcolor\":\"white\",\"plot_bgcolor\":\"#E5ECF6\",\"polar\":{\"bgcolor\":\"#E5ECF6\",\"angularaxis\":{\"gridcolor\":\"white\",\"linecolor\":\"white\",\"ticks\":\"\"},\"radialaxis\":{\"gridcolor\":\"white\",\"linecolor\":\"white\",\"ticks\":\"\"}},\"ternary\":{\"bgcolor\":\"#E5ECF6\",\"aaxis\":{\"gridcolor\":\"white\",\"linecolor\":\"white\",\"ticks\":\"\"},\"baxis\":{\"gridcolor\":\"white\",\"linecolor\":\"white\",\"ticks\":\"\"},\"caxis\":{\"gridcolor\":\"white\",\"linecolor\":\"white\",\"ticks\":\"\"}},\"coloraxis\":{\"colorbar\":{\"outlinewidth\":0,\"ticks\":\"\"}},\"colorscale\":{\"sequential\":[[0.0,\"#0d0887\"],[0.1111111111111111,\"#46039f\"],[0.2222222222222222,\"#7201a8\"],[0.3333333333333333,\"#9c179e\"],[0.4444444444444444,\"#bd3786\"],[0.5555555555555556,\"#d8576b\"],[0.6666666666666666,\"#ed7953\"],[0.7777777777777778,\"#fb9f3a\"],[0.8888888888888888,\"#fdca26\"],[1.0,\"#f0f921\"]],\"sequentialminus\":[[0.0,\"#0d0887\"],[0.1111111111111111,\"#46039f\"],[0.2222222222222222,\"#7201a8\"],[0.3333333333333333,\"#9c179e\"],[0.4444444444444444,\"#bd3786\"],[0.5555555555555556,\"#d8576b\"],[0.6666666666666666,\"#ed7953\"],[0.7777777777777778,\"#fb9f3a\"],[0.8888888888888888,\"#fdca26\"],[1.0,\"#f0f921\"]],\"diverging\":[[0,\"#8e0152\"],[0.1,\"#c51b7d\"],[0.2,\"#de77ae\"],[0.3,\"#f1b6da\"],[0.4,\"#fde0ef\"],[0.5,\"#f7f7f7\"],[0.6,\"#e6f5d0\"],[0.7,\"#b8e186\"],[0.8,\"#7fbc41\"],[0.9,\"#4d9221\"],[1,\"#276419\"]]},\"xaxis\":{\"gridcolor\":\"white\",\"linecolor\":\"white\",\"ticks\":\"\",\"title\":{\"standoff\":15},\"zerolinecolor\":\"white\",\"automargin\":true,\"zerolinewidth\":2},\"yaxis\":{\"gridcolor\":\"white\",\"linecolor\":\"white\",\"ticks\":\"\",\"title\":{\"standoff\":15},\"zerolinecolor\":\"white\",\"automargin\":true,\"zerolinewidth\":2},\"scene\":{\"xaxis\":{\"backgroundcolor\":\"#E5ECF6\",\"gridcolor\":\"white\",\"linecolor\":\"white\",\"showbackground\":true,\"ticks\":\"\",\"zerolinecolor\":\"white\",\"gridwidth\":2},\"yaxis\":{\"backgroundcolor\":\"#E5ECF6\",\"gridcolor\":\"white\",\"linecolor\":\"white\",\"showbackground\":true,\"ticks\":\"\",\"zerolinecolor\":\"white\",\"gridwidth\":2},\"zaxis\":{\"backgroundcolor\":\"#E5ECF6\",\"gridcolor\":\"white\",\"linecolor\":\"white\",\"showbackground\":true,\"ticks\":\"\",\"zerolinecolor\":\"white\",\"gridwidth\":2}},\"shapedefaults\":{\"line\":{\"color\":\"#2a3f5f\"}},\"annotationdefaults\":{\"arrowcolor\":\"#2a3f5f\",\"arrowhead\":0,\"arrowwidth\":1},\"geo\":{\"bgcolor\":\"white\",\"landcolor\":\"#E5ECF6\",\"subunitcolor\":\"white\",\"showland\":true,\"showlakes\":true,\"lakecolor\":\"white\"},\"title\":{\"x\":0.05},\"mapbox\":{\"style\":\"light\"}}},\"xaxis\":{\"anchor\":\"y\",\"domain\":[0.0,1.0],\"title\":{\"text\":\"\"},\"ticktext\":[\"T1\\u003cbr\\u003e2016\",\"T2\\u003cbr\\u003e2016\",\"T3\\u003cbr\\u003e2016\",\"T4\\u003cbr\\u003e2016\",\"T1\\u003cbr\\u003e2017\",\"T2\\u003cbr\\u003e2017\",\"T3\\u003cbr\\u003e2017\",\"T4\\u003cbr\\u003e2017\",\"T1\\u003cbr\\u003e2018\",\"T2\\u003cbr\\u003e2018\",\"T3\\u003cbr\\u003e2018\",\"T4\\u003cbr\\u003e2018\",\"T1\\u003cbr\\u003e2019\",\"T2\\u003cbr\\u003e2019\",\"T3\\u003cbr\\u003e2019\",\"T4\\u003cbr\\u003e2019\"],\"tickvals\":[\"2016-03-31T00:00:00\",\"2016-06-30T00:00:00\",\"2016-09-30T00:00:00\",\"2016-12-31T00:00:00\",\"2017-03-31T00:00:00\",\"2017-06-30T00:00:00\",\"2017-09-30T00:00:00\",\"2017-12-31T00:00:00\",\"2018-03-31T00:00:00\",\"2018-06-30T00:00:00\",\"2018-09-30T00:00:00\",\"2018-12-31T00:00:00\",\"2019-03-31T00:00:00\",\"2019-06-30T00:00:00\",\"2019-09-30T00:00:00\",\"2019-12-31T00:00:00\"]},\"yaxis\":{\"anchor\":\"x\",\"domain\":[0.0,1.0],\"title\":{\"text\":\"\"},\"tickprefix\":\"R$ \",\"ticksuffix\":\" mil\"},\"legend\":{\"title\":{\"text\":\"Regi\\u00e3o\"},\"tracegroupgap\":0},\"margin\":{\"t\":60},\"font\":{\"family\":\"DejaVu Sans\",\"size\":15,\"color\":\"#495057\"},\"title\":{\"font\":{\"color\":\"#212529\",\"size\":24},\"text\":\"Faturamento da loja de departamentos por trimestre\\u003cbr\\u003e\\u003csup size=1 style=\\\"color:#555655\\\"\\u003eDe 2016 a 2019\\u003c\\u002fsup\\u003e\"},\"width\":1300,\"height\":600,\"plot_bgcolor\":\"#f8f9fa\",\"hovermode\":\"x unified\"},                        {\"responsive\": true}                    ).then(function(){\n",
       "                            \n",
       "var gd = document.getElementById('4db33a53-7cf2-4a36-85df-dfe9aee440c3');\n",
       "var x = new MutationObserver(function (mutations, observer) {{\n",
       "        var display = window.getComputedStyle(gd).display;\n",
       "        if (!display || display === 'none') {{\n",
       "            console.log([gd, 'removed!']);\n",
       "            Plotly.purge(gd);\n",
       "            observer.disconnect();\n",
       "        }}\n",
       "}});\n",
       "\n",
       "// Listen for the removal of the full notebook cells\n",
       "var notebookContainer = gd.closest('#notebook-container');\n",
       "if (notebookContainer) {{\n",
       "    x.observe(notebookContainer, {childList: true});\n",
       "}}\n",
       "\n",
       "// Listen for the clearing of the current output cell\n",
       "var outputEl = gd.closest('.output');\n",
       "if (outputEl) {{\n",
       "    x.observe(outputEl, {childList: true});\n",
       "}}\n",
       "\n",
       "                        })                };                });            </script>        </div>"
      ]
     },
     "metadata": {},
     "output_type": "display_data"
    }
   ],
   "source": [
    "fig.update_traces(mode=\"markers+lines\", hovertemplate =  \"<b>Período<b> %{x} br <b>Faturamento<b> %{y}\")\n",
    "# fig.update_layout(hovermode=closest)    # para exibir apenas do dado que passamos o mouse\n",
    "# fig.update_layout(hovermode=x)          # para exibir todos os dados do período em cada linha \n",
    "fig.update_layout(hovermode=\"x unified\")  # para exibir o resumo de todos os dados no período\n",
    "\n",
    "fig.show()"
   ]
  },
  {
   "cell_type": "code",
   "execution_count": null,
   "id": "e5b930bf-e20d-4fcd-885e-690119acfa07",
   "metadata": {},
   "outputs": [],
   "source": []
  }
 ],
 "metadata": {
  "kernelspec": {
   "display_name": "Python 3 (ipykernel)",
   "language": "python",
   "name": "python3"
  },
  "language_info": {
   "codemirror_mode": {
    "name": "ipython",
    "version": 3
   },
   "file_extension": ".py",
   "mimetype": "text/x-python",
   "name": "python",
   "nbconvert_exporter": "python",
   "pygments_lexer": "ipython3",
   "version": "3.11.4"
  }
 },
 "nbformat": 4,
 "nbformat_minor": 5
}
